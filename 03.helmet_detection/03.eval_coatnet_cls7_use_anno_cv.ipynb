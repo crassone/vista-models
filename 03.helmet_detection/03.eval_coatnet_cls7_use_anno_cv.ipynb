{
 "cells": [
  {
   "cell_type": "code",
   "execution_count": 1,
   "id": "3b74bb8f-f8d3-4680-a54b-d17b23f81783",
   "metadata": {},
   "outputs": [],
   "source": [
    "import os\n",
    "import albumentations as A\n",
    "from albumentations.pytorch import ToTensorV2\n",
    "import matplotlib.pyplot as plt\n",
    "import numpy as np\n",
    "import pandas as pd\n",
    "from PIL import Image\n",
    "import random\n",
    "import timm\n",
    "import torch\n",
    "import torch.nn.functional as F\n",
    "from torch.utils.data import DataLoader, Dataset\n",
    "from tqdm.notebook import tqdm\n",
    "from sklearn.metrics import precision_recall_curve, average_precision_score\n",
    "from utils.utils import get_device, set_seed"
   ]
  },
  {
   "cell_type": "markdown",
   "id": "6d8d55c5-b35d-4006-91ed-12b77767e7ff",
   "metadata": {},
   "source": [
    "## 設定"
   ]
  },
  {
   "cell_type": "code",
   "execution_count": 2,
   "id": "2e107dbd-ca43-4998-a342-784014a77b7b",
   "metadata": {},
   "outputs": [],
   "source": [
    "pattern_date = '2023-12-24'\n",
    "root_dir = f'{\"/\".join(os.getcwd().split(\"/\")[:-1])}'\n",
    "pose_output_dir = f'{root_dir}/data/outputs/02.pose_estimation'\n",
    "head_detection_label_dir = f'{root_dir}/data/outputs/03.helmet_detection/00.head_detection_add_label'\n",
    "train_result_dir = f'{root_dir}/data/outputs/03.helmet_detection/02.training_coatnet_cls7_use_anno'\n",
    "result_dir = f'{root_dir}/data/outputs/03.helmet_detection/03.eval_coatnet_cls7_use_anno'"
   ]
  },
  {
   "cell_type": "code",
   "execution_count": 3,
   "id": "a6cacf64-aba4-4e92-b282-81dae88996a7",
   "metadata": {},
   "outputs": [],
   "source": [
    "annotation_head_df = pd.read_csv(f'{pose_output_dir}/head_eval_annotation-{pattern_date}.csv')\n",
    "pred_head_df = pd.read_csv(f'{head_detection_label_dir}/head_eval_pred_add_label-{pattern_date}.csv')"
   ]
  },
  {
   "cell_type": "code",
   "execution_count": 4,
   "id": "ebc22d69-64f7-4a78-9f64-4756cbf6a05b",
   "metadata": {},
   "outputs": [],
   "source": [
    "class_category = [\n",
    "    ['detection-miss'],\n",
    "    ['helmet'],\n",
    "    ['helmet unknown (occlusion)'],\n",
    "    ['helmet unknown (small)'],\n",
    "    ['unsafe-helmet (inadequate covering)'],\n",
    "    ['unsafe-helmet (no chin strap)'],\n",
    "    ['no-helmet'],\n",
    "]\n",
    "no_alarm_class_category = ['detection-miss', 'helmet', 'helmet unknown (occlusion)', 'helmet unknown (small)']"
   ]
  },
  {
   "cell_type": "code",
   "execution_count": 5,
   "id": "1c32c895-240d-4450-9181-b20c576eaf5f",
   "metadata": {},
   "outputs": [],
   "source": [
    "huggingface_model_name = 'coatnet_2_rw_224.sw_in12k_ft_in1k'\n",
    "input_img_size = 224"
   ]
  },
  {
   "cell_type": "code",
   "execution_count": 6,
   "id": "79d0495d-8bfe-44db-862c-bbec4d1dabf0",
   "metadata": {},
   "outputs": [],
   "source": [
    "# パラメータ\n",
    "batch_size = 32\n",
    "seed = 42"
   ]
  },
  {
   "cell_type": "markdown",
   "id": "dcb2aef1-16b4-4a1a-a289-129a7dec640d",
   "metadata": {},
   "source": [
    "## ヘルメット分類の推論実行"
   ]
  },
  {
   "cell_type": "code",
   "execution_count": 7,
   "id": "647b5e12-b488-461d-89a9-f5726c9b5cc5",
   "metadata": {},
   "outputs": [],
   "source": [
    "set_seed(seed=seed)\n",
    "device = get_device()"
   ]
  },
  {
   "cell_type": "code",
   "execution_count": 8,
   "id": "dde83225-2fa7-4c0e-bd31-22028909a859",
   "metadata": {},
   "outputs": [],
   "source": [
    "class ClassificationDataset(Dataset):\n",
    "    def __init__(self, df, transform=None, training=False):\n",
    "        self.df = df\n",
    "        self.img_paths = [f'{root_dir}/data/images/{path}' for path in df['relative_img_path'].values]\n",
    "        self.labels = list(df['label'].values)\n",
    "        self.bboxes = list(df[['left', 'top', 'right', 'bottom']].values)\n",
    "        self.transform = transform\n",
    "        self.training = training\n",
    "\n",
    "    def __getitem__(self, idx):\n",
    "        image = Image.open(self.img_paths[idx])\n",
    "        bbox = self.bboxes[idx]\n",
    "        if self.training:\n",
    "            bbox_width = bbox[2] - bbox[0]\n",
    "            bbox_height = bbox[3] - bbox[1]\n",
    "            img_width, img_height = image.size\n",
    "\n",
    "            random_ratio = random.uniform(0, 0.2)\n",
    "            add_bbox_width = bbox_width * random_ratio\n",
    "            add_bbox_height = bbox_height * random_ratio\n",
    "            bbox[0] = bbox[0] - add_bbox_width / 2 if bbox[0] - add_bbox_width / 2 > 0 else 0\n",
    "            bbox[1] = bbox[1] - add_bbox_height / 2 if bbox[1] - add_bbox_height / 2 > 0 else 0\n",
    "            bbox[2] = bbox[2] + add_bbox_width / 2 if bbox[2] + add_bbox_width / 2 < img_width else img_width\n",
    "            bbox[3] = bbox[3] + add_bbox_height / 2 if bbox[3] + add_bbox_height / 2 < img_height else img_height\n",
    "\n",
    "            cropped_image = image.crop(bbox)\n",
    "        else:\n",
    "            cropped_image = image.crop(bbox)\n",
    "\n",
    "        img = np.array(cropped_image)\n",
    "        augmented = self.transform(image=img)\n",
    "        image = augmented['image']\n",
    "\n",
    "        for i, category_names in enumerate(class_category):\n",
    "            if self.labels[idx] in category_names:\n",
    "                label = i\n",
    "        return image, label\n",
    "\n",
    "    def __len__(self):\n",
    "        return len(self.df)"
   ]
  },
  {
   "cell_type": "code",
   "execution_count": 9,
   "id": "89ae0b96-bb8c-4a85-b7a4-2968167dff7c",
   "metadata": {},
   "outputs": [],
   "source": [
    "A_transforms_val = A.Compose([\n",
    "    A.Resize(224,224),\n",
    "    A.Normalize(mean=(0.485, 0.456, 0.406), std=(0.229, 0.224, 0.225)),\n",
    "    ToTensorV2(),\n",
    "])"
   ]
  },
  {
   "cell_type": "markdown",
   "id": "fb68b89d-ad05-4280-91e6-16c5155d9338",
   "metadata": {},
   "source": [
    "### cross-validationでの評価"
   ]
  },
  {
   "cell_type": "code",
   "execution_count": 10,
   "id": "046bdd5f-6636-4b21-910d-94ad4d717471",
   "metadata": {},
   "outputs": [
    {
     "name": "stderr",
     "output_type": "stream",
     "text": [
      "/home/kicodevs/.local/share/virtualenvs/crassone-analysis-IVAO5Hrn/lib/python3.9/site-packages/torch/functional.py:504: UserWarning: torch.meshgrid: in an upcoming release, it will be required to pass the indexing argument. (Triggered internally at ../aten/src/ATen/native/TensorShape.cpp:3526.)\n",
      "  return _VF.meshgrid(tensors, **kwargs)  # type: ignore[attr-defined]\n"
     ]
    },
    {
     "data": {
      "application/vnd.jupyter.widget-view+json": {
       "model_id": "81ce690bbb314da68f58bb7d2243212e",
       "version_major": 2,
       "version_minor": 0
      },
      "text/plain": [
       "  0%|          | 0/21 [00:00<?, ?it/s]"
      ]
     },
     "metadata": {},
     "output_type": "display_data"
    },
    {
     "data": {
      "application/vnd.jupyter.widget-view+json": {
       "model_id": "33ec62be0c414d2ea929d7537f3aa57b",
       "version_major": 2,
       "version_minor": 0
      },
      "text/plain": [
       "  0%|          | 0/22 [00:00<?, ?it/s]"
      ]
     },
     "metadata": {},
     "output_type": "display_data"
    },
    {
     "data": {
      "application/vnd.jupyter.widget-view+json": {
       "model_id": "aa3bcca1d5674007bf21417b2dbb2770",
       "version_major": 2,
       "version_minor": 0
      },
      "text/plain": [
       "  0%|          | 0/21 [00:00<?, ?it/s]"
      ]
     },
     "metadata": {},
     "output_type": "display_data"
    }
   ],
   "source": [
    "labels_list = []\n",
    "prob_list = []\n",
    "valid_all_df_list = []\n",
    "for num_cv in range(3):\n",
    "    valid_df = pred_head_df[\n",
    "        (pred_head_df['validation'] == num_cv) &\n",
    "        (\n",
    "            (pred_head_df['unique_key'].str.contains('fixed-point-camera')) |\n",
    "            (pred_head_df['unique_key'].str.contains('for-learning/2023-11-19-omaezaki-500')) |\n",
    "            (pred_head_df['unique_key'].str.contains('for-learning/2023-11-23-mie-safetybelt'))\n",
    "        )\n",
    "    ]\n",
    "    valid_all_df_list.append(valid_df)\n",
    "\n",
    "    valid_data = ClassificationDataset(valid_df, A_transforms_val)\n",
    "    valid_loader = DataLoader(dataset = valid_data, batch_size=batch_size, shuffle=False)\n",
    "\n",
    "    # model\n",
    "    model = timm.create_model(huggingface_model_name, pretrained=True, num_classes=len(class_category))\n",
    "    model.load_state_dict(torch.load(f'{train_result_dir}/{num_cv}/model.pth'))\n",
    "    model.to(device)\n",
    "\n",
    "    with torch.no_grad():\n",
    "        for data, label in tqdm(valid_loader):\n",
    "            data = data.to(device)\n",
    "            label = label.to(device)\n",
    "\n",
    "            val_output = model(data)\n",
    "            probs = F.softmax(val_output, dim=1)\n",
    "            labels_list.append(label.detach().cpu().numpy())\n",
    "            prob_list.append(probs.detach().cpu().numpy())\n",
    "labels_np = np.concatenate(labels_list)\n",
    "prob_np = np.concatenate(prob_list)\n",
    "prob_argmax = np.argmax(prob_np, axis=1)\n",
    "valid_all_df = pd.concat(valid_all_df_list)"
   ]
  },
  {
   "cell_type": "markdown",
   "id": "75268a62-da4e-4cd6-9ef6-6cda35a772e1",
   "metadata": {},
   "source": [
    "#### confusion matrix - 確率値が最大のクラスをそのまま予測クラスにする"
   ]
  },
  {
   "cell_type": "code",
   "execution_count": 11,
   "id": "a2745284-56d5-419a-b0c7-51b355b9c162",
   "metadata": {},
   "outputs": [
    {
     "data": {
      "text/html": [
       "<div>\n",
       "<style scoped>\n",
       "    .dataframe tbody tr th:only-of-type {\n",
       "        vertical-align: middle;\n",
       "    }\n",
       "\n",
       "    .dataframe tbody tr th {\n",
       "        vertical-align: top;\n",
       "    }\n",
       "\n",
       "    .dataframe thead th {\n",
       "        text-align: right;\n",
       "    }\n",
       "</style>\n",
       "<table border=\"1\" class=\"dataframe\">\n",
       "  <thead>\n",
       "    <tr style=\"text-align: right;\">\n",
       "      <th></th>\n",
       "      <th>detection-miss</th>\n",
       "      <th>helmet</th>\n",
       "      <th>helmet unknown (occlusion)</th>\n",
       "      <th>helmet unknown (small)</th>\n",
       "      <th>unsafe-helmet (inadequate covering)</th>\n",
       "      <th>unsafe-helmet (no chin strap)</th>\n",
       "      <th>no-helmet</th>\n",
       "    </tr>\n",
       "  </thead>\n",
       "  <tbody>\n",
       "    <tr>\n",
       "      <th>detection-miss</th>\n",
       "      <td>236</td>\n",
       "      <td>1</td>\n",
       "      <td>25</td>\n",
       "      <td>32</td>\n",
       "      <td>50</td>\n",
       "      <td>3</td>\n",
       "      <td>15</td>\n",
       "    </tr>\n",
       "    <tr>\n",
       "      <th>helmet</th>\n",
       "      <td>2</td>\n",
       "      <td>86</td>\n",
       "      <td>5</td>\n",
       "      <td>19</td>\n",
       "      <td>27</td>\n",
       "      <td>61</td>\n",
       "      <td>0</td>\n",
       "    </tr>\n",
       "    <tr>\n",
       "      <th>helmet unknown (occlusion)</th>\n",
       "      <td>22</td>\n",
       "      <td>12</td>\n",
       "      <td>116</td>\n",
       "      <td>39</td>\n",
       "      <td>54</td>\n",
       "      <td>17</td>\n",
       "      <td>1</td>\n",
       "    </tr>\n",
       "    <tr>\n",
       "      <th>helmet unknown (small)</th>\n",
       "      <td>4</td>\n",
       "      <td>5</td>\n",
       "      <td>15</td>\n",
       "      <td>66</td>\n",
       "      <td>19</td>\n",
       "      <td>11</td>\n",
       "      <td>0</td>\n",
       "    </tr>\n",
       "    <tr>\n",
       "      <th>unsafe-helmet (inadequate covering)</th>\n",
       "      <td>18</td>\n",
       "      <td>8</td>\n",
       "      <td>16</td>\n",
       "      <td>25</td>\n",
       "      <td>425</td>\n",
       "      <td>19</td>\n",
       "      <td>0</td>\n",
       "    </tr>\n",
       "    <tr>\n",
       "      <th>unsafe-helmet (no chin strap)</th>\n",
       "      <td>5</td>\n",
       "      <td>36</td>\n",
       "      <td>4</td>\n",
       "      <td>25</td>\n",
       "      <td>23</td>\n",
       "      <td>214</td>\n",
       "      <td>1</td>\n",
       "    </tr>\n",
       "    <tr>\n",
       "      <th>no-helmet</th>\n",
       "      <td>15</td>\n",
       "      <td>0</td>\n",
       "      <td>1</td>\n",
       "      <td>1</td>\n",
       "      <td>16</td>\n",
       "      <td>6</td>\n",
       "      <td>204</td>\n",
       "    </tr>\n",
       "  </tbody>\n",
       "</table>\n",
       "</div>"
      ],
      "text/plain": [
       "                                     detection-miss  helmet  \\\n",
       "detection-miss                                  236       1   \n",
       "helmet                                            2      86   \n",
       "helmet unknown (occlusion)                       22      12   \n",
       "helmet unknown (small)                            4       5   \n",
       "unsafe-helmet (inadequate covering)              18       8   \n",
       "unsafe-helmet (no chin strap)                     5      36   \n",
       "no-helmet                                        15       0   \n",
       "\n",
       "                                     helmet unknown (occlusion)  \\\n",
       "detection-miss                                               25   \n",
       "helmet                                                        5   \n",
       "helmet unknown (occlusion)                                  116   \n",
       "helmet unknown (small)                                       15   \n",
       "unsafe-helmet (inadequate covering)                          16   \n",
       "unsafe-helmet (no chin strap)                                 4   \n",
       "no-helmet                                                     1   \n",
       "\n",
       "                                     helmet unknown (small)  \\\n",
       "detection-miss                                           32   \n",
       "helmet                                                   19   \n",
       "helmet unknown (occlusion)                               39   \n",
       "helmet unknown (small)                                   66   \n",
       "unsafe-helmet (inadequate covering)                      25   \n",
       "unsafe-helmet (no chin strap)                            25   \n",
       "no-helmet                                                 1   \n",
       "\n",
       "                                     unsafe-helmet (inadequate covering)  \\\n",
       "detection-miss                                                        50   \n",
       "helmet                                                                27   \n",
       "helmet unknown (occlusion)                                            54   \n",
       "helmet unknown (small)                                                19   \n",
       "unsafe-helmet (inadequate covering)                                  425   \n",
       "unsafe-helmet (no chin strap)                                         23   \n",
       "no-helmet                                                             16   \n",
       "\n",
       "                                     unsafe-helmet (no chin strap)  no-helmet  \n",
       "detection-miss                                                   3         15  \n",
       "helmet                                                          61          0  \n",
       "helmet unknown (occlusion)                                      17          1  \n",
       "helmet unknown (small)                                          11          0  \n",
       "unsafe-helmet (inadequate covering)                             19          0  \n",
       "unsafe-helmet (no chin strap)                                  214          1  \n",
       "no-helmet                                                        6        204  "
      ]
     },
     "metadata": {},
     "output_type": "display_data"
    }
   ],
   "source": [
    "confusion_mat = [[0 for i in range(len(class_category))] for j in range(len(class_category))]\n",
    "for label, prob in zip(labels_np, prob_argmax):\n",
    "    confusion_mat[label][prob] += 1\n",
    "display(pd.DataFrame(\n",
    "    confusion_mat, index=[i[0] for i in class_category], columns=[i[0] for i in class_category]\n",
    "))"
   ]
  },
  {
   "cell_type": "markdown",
   "id": "1359282c-5f8e-4deb-a7ee-9d19b06934bb",
   "metadata": {},
   "source": [
    "#### confusion matrix - 閾値をprecision@0.95にして予測クラスにする"
   ]
  },
  {
   "cell_type": "code",
   "execution_count": 12,
   "id": "540f2306-fdf1-4b66-9214-18044e33587b",
   "metadata": {},
   "outputs": [],
   "source": [
    "def pred_class_names_precision095(row):\n",
    "    unsafe_inadequate_covering_threshold = row['threshold - unsafe-helmet (inadequate covering)']\n",
    "    unsafe_no_chin_strap_threshold = row['threshold - unsafe-helmet (no chin strap)']\n",
    "    no_helmet_threshold = row['threshold - no-helmet']\n",
    "    pred_class = []\n",
    "    if row['unsafe-helmet (inadequate covering)'] >= unsafe_inadequate_covering_threshold:\n",
    "        pred_class.append('unsafe-helmet (inadequate covering)')\n",
    "    if row['unsafe-helmet (no chin strap)'] >= unsafe_no_chin_strap_threshold:\n",
    "        pred_class.append('unsafe-helmet (no chin strap)')\n",
    "    if row['no-helmet'] >= no_helmet_threshold:\n",
    "        pred_class.append('no-helmet')\n",
    "    if len(pred_class) > 0:\n",
    "        return row[pred_class].idxmax()\n",
    "    return row[[i[0] for i in class_category[0:4]]].idxmax()"
   ]
  },
  {
   "cell_type": "code",
   "execution_count": 13,
   "id": "a62fbc69-0817-4c44-89b6-cbc682f865ef",
   "metadata": {},
   "outputs": [],
   "source": [
    "# calculate precision@0.95 threshold\n",
    "threshold_precision095_df_list = []\n",
    "for num_cv in range(3):\n",
    "    threshold_precision095_valid_dict = {}\n",
    "    for class_num, class_names in enumerate(class_category):\n",
    "        if any([no_alarm_class in class_names for no_alarm_class in no_alarm_class_category]):\n",
    "            continue\n",
    "        tmp_use_label = [label for label, valid in zip(labels_np, list(valid_all_df['validation'])) if valid == num_cv]\n",
    "        tmp_use_prob = [prob for prob, valid in zip(prob_np, list(valid_all_df['validation'])) if valid == num_cv]\n",
    "        use_label = [i for i in tmp_use_label if i in [j for j in range(len(no_alarm_class_category))] + [class_num]]\n",
    "        use_prob = [j for i, j in zip(tmp_use_label, tmp_use_prob) if i in [j for j in range(len(no_alarm_class_category))] + [class_num]]\n",
    "        use_label = np.array([1 if i in [class_num] else 0 for i in use_label])\n",
    "        use_prob = np.array([i[class_num] for i in use_prob])\n",
    "        precisions, recalls, thresholds = precision_recall_curve(use_label, use_prob)\n",
    "        _threshold = 1.0\n",
    "        for p, t in zip(precisions, thresholds):\n",
    "            if p >= 0.95:\n",
    "                _threshold = t\n",
    "                break\n",
    "        threshold_precision095_valid_dict[class_names[0]] = _threshold\n",
    "    threshold_precision095_df_list.append(pd.DataFrame(\n",
    "        [[i for i in threshold_precision095_valid_dict.values()] for _ in range(len(valid_all_df[valid_all_df['validation'] == num_cv]))],\n",
    "        columns=[f'threshold - {i}' for i in threshold_precision095_valid_dict.keys()]\n",
    "    ))\n",
    "threshold_precision095_df = pd.concat(threshold_precision095_df_list).reset_index(drop=True)\n",
    "prob_df = pd.concat([pd.DataFrame(prob_np, columns=[i[0] for i in class_category]), threshold_precision095_df], axis=1)"
   ]
  },
  {
   "cell_type": "code",
   "execution_count": 14,
   "id": "7801cce3-59ed-4efa-9071-28d369aebdac",
   "metadata": {
    "scrolled": true
   },
   "outputs": [],
   "source": [
    "valid_all_df['pred_head_class'] = list(prob_df.apply(pred_class_names_precision095, axis=1))"
   ]
  },
  {
   "cell_type": "code",
   "execution_count": 15,
   "id": "48b163c3-1fc5-4e98-afe0-aeebfc919d68",
   "metadata": {},
   "outputs": [
    {
     "data": {
      "text/html": [
       "<div>\n",
       "<style scoped>\n",
       "    .dataframe tbody tr th:only-of-type {\n",
       "        vertical-align: middle;\n",
       "    }\n",
       "\n",
       "    .dataframe tbody tr th {\n",
       "        vertical-align: top;\n",
       "    }\n",
       "\n",
       "    .dataframe thead th {\n",
       "        text-align: right;\n",
       "    }\n",
       "</style>\n",
       "<table border=\"1\" class=\"dataframe\">\n",
       "  <thead>\n",
       "    <tr style=\"text-align: right;\">\n",
       "      <th></th>\n",
       "      <th>detection-miss</th>\n",
       "      <th>helmet</th>\n",
       "      <th>helmet unknown (occlusion)</th>\n",
       "      <th>helmet unknown (small)</th>\n",
       "      <th>unsafe-helmet (inadequate covering)</th>\n",
       "      <th>unsafe-helmet (no chin strap)</th>\n",
       "      <th>no-helmet</th>\n",
       "    </tr>\n",
       "  </thead>\n",
       "  <tbody>\n",
       "    <tr>\n",
       "      <th>detection-miss</th>\n",
       "      <td>268</td>\n",
       "      <td>6</td>\n",
       "      <td>38</td>\n",
       "      <td>38</td>\n",
       "      <td>4</td>\n",
       "      <td>0</td>\n",
       "      <td>8</td>\n",
       "    </tr>\n",
       "    <tr>\n",
       "      <th>helmet</th>\n",
       "      <td>9</td>\n",
       "      <td>154</td>\n",
       "      <td>7</td>\n",
       "      <td>28</td>\n",
       "      <td>0</td>\n",
       "      <td>2</td>\n",
       "      <td>0</td>\n",
       "    </tr>\n",
       "    <tr>\n",
       "      <th>helmet unknown (occlusion)</th>\n",
       "      <td>35</td>\n",
       "      <td>23</td>\n",
       "      <td>149</td>\n",
       "      <td>48</td>\n",
       "      <td>4</td>\n",
       "      <td>1</td>\n",
       "      <td>1</td>\n",
       "    </tr>\n",
       "    <tr>\n",
       "      <th>helmet unknown (small)</th>\n",
       "      <td>6</td>\n",
       "      <td>10</td>\n",
       "      <td>25</td>\n",
       "      <td>78</td>\n",
       "      <td>0</td>\n",
       "      <td>1</td>\n",
       "      <td>0</td>\n",
       "    </tr>\n",
       "    <tr>\n",
       "      <th>unsafe-helmet (inadequate covering)</th>\n",
       "      <td>148</td>\n",
       "      <td>46</td>\n",
       "      <td>109</td>\n",
       "      <td>51</td>\n",
       "      <td>156</td>\n",
       "      <td>1</td>\n",
       "      <td>0</td>\n",
       "    </tr>\n",
       "    <tr>\n",
       "      <th>unsafe-helmet (no chin strap)</th>\n",
       "      <td>16</td>\n",
       "      <td>123</td>\n",
       "      <td>19</td>\n",
       "      <td>57</td>\n",
       "      <td>0</td>\n",
       "      <td>93</td>\n",
       "      <td>0</td>\n",
       "    </tr>\n",
       "    <tr>\n",
       "      <th>no-helmet</th>\n",
       "      <td>30</td>\n",
       "      <td>3</td>\n",
       "      <td>10</td>\n",
       "      <td>7</td>\n",
       "      <td>1</td>\n",
       "      <td>0</td>\n",
       "      <td>192</td>\n",
       "    </tr>\n",
       "  </tbody>\n",
       "</table>\n",
       "</div>"
      ],
      "text/plain": [
       "                                     detection-miss  helmet  \\\n",
       "detection-miss                                  268       6   \n",
       "helmet                                            9     154   \n",
       "helmet unknown (occlusion)                       35      23   \n",
       "helmet unknown (small)                            6      10   \n",
       "unsafe-helmet (inadequate covering)             148      46   \n",
       "unsafe-helmet (no chin strap)                    16     123   \n",
       "no-helmet                                        30       3   \n",
       "\n",
       "                                     helmet unknown (occlusion)  \\\n",
       "detection-miss                                               38   \n",
       "helmet                                                        7   \n",
       "helmet unknown (occlusion)                                  149   \n",
       "helmet unknown (small)                                       25   \n",
       "unsafe-helmet (inadequate covering)                         109   \n",
       "unsafe-helmet (no chin strap)                                19   \n",
       "no-helmet                                                    10   \n",
       "\n",
       "                                     helmet unknown (small)  \\\n",
       "detection-miss                                           38   \n",
       "helmet                                                   28   \n",
       "helmet unknown (occlusion)                               48   \n",
       "helmet unknown (small)                                   78   \n",
       "unsafe-helmet (inadequate covering)                      51   \n",
       "unsafe-helmet (no chin strap)                            57   \n",
       "no-helmet                                                 7   \n",
       "\n",
       "                                     unsafe-helmet (inadequate covering)  \\\n",
       "detection-miss                                                         4   \n",
       "helmet                                                                 0   \n",
       "helmet unknown (occlusion)                                             4   \n",
       "helmet unknown (small)                                                 0   \n",
       "unsafe-helmet (inadequate covering)                                  156   \n",
       "unsafe-helmet (no chin strap)                                          0   \n",
       "no-helmet                                                              1   \n",
       "\n",
       "                                     unsafe-helmet (no chin strap)  no-helmet  \n",
       "detection-miss                                                   0          8  \n",
       "helmet                                                           2          0  \n",
       "helmet unknown (occlusion)                                       1          1  \n",
       "helmet unknown (small)                                           1          0  \n",
       "unsafe-helmet (inadequate covering)                              1          0  \n",
       "unsafe-helmet (no chin strap)                                   93          0  \n",
       "no-helmet                                                        0        192  "
      ]
     },
     "metadata": {},
     "output_type": "display_data"
    }
   ],
   "source": [
    "confusion_mat = [[0 for i in range(len(class_category))] for j in range(len(class_category))]\n",
    "for label, pred_name in zip(labels_np, list(valid_all_df['pred_head_class'])):\n",
    "    pred_num = [i for i, class_names in enumerate(class_category) if pred_name in class_names][0]\n",
    "    confusion_mat[label][pred_num] += 1\n",
    "display(pd.DataFrame(\n",
    "    confusion_mat, index=[i[0] for i in class_category], columns=[i[0] for i in class_category]\n",
    "))"
   ]
  },
  {
   "cell_type": "markdown",
   "id": "87d7598d-316e-43b1-85d6-f3a0983580a7",
   "metadata": {},
   "source": [
    "#### PR-AUC"
   ]
  },
  {
   "cell_type": "code",
   "execution_count": 16,
   "id": "b7dc682a-c714-4d06-bb19-ae4b0bb204e1",
   "metadata": {},
   "outputs": [
    {
     "name": "stdout",
     "output_type": "stream",
     "text": [
      "validation: 0\n",
      "['unsafe-helmet (inadequate covering)'] - PR-AUC: 0.8607\n",
      "precision@0.91 - Recall: 0.5605 - Threshold: 0.8169\n",
      "precision@0.95 - Recall: 0.2484 - Threshold: 0.9887 \n",
      "\n",
      "['unsafe-helmet (no chin strap)'] - PR-AUC: 0.8654\n",
      "precision@0.90 - Recall: 0.6535 - Threshold: 0.8521\n",
      "precision@0.96 - Recall: 0.4554 - Threshold: 0.9433 \n",
      "\n",
      "['no-helmet'] - PR-AUC: 0.9146\n",
      "precision@0.90 - Recall: 0.8721 - Threshold: 0.1744\n",
      "precision@0.95 - Recall: 0.7209 - Threshold: 0.7819 \n",
      "\n"
     ]
    },
    {
     "data": {
      "image/png": "[encoded data removed]",
      "text/plain": [
       "<Figure size 800x600 with 1 Axes>"
      ]
     },
     "metadata": {},
     "output_type": "display_data"
    },
    {
     "name": "stdout",
     "output_type": "stream",
     "text": [
      "validation: 1\n",
      "['unsafe-helmet (inadequate covering)'] - PR-AUC: 0.8520\n",
      "precision@0.90 - Recall: 0.4912 - Threshold: 0.8637\n",
      "precision@0.95 - Recall: 0.1111 - Threshold: 0.9693 \n",
      "\n",
      "['unsafe-helmet (no chin strap)'] - PR-AUC: 0.8451\n",
      "precision@0.91 - Recall: 0.4952 - Threshold: 0.6634\n",
      "precision@0.96 - Recall: 0.2381 - Threshold: 0.8363 \n",
      "\n",
      "['no-helmet'] - PR-AUC: 0.9255\n",
      "precision@0.90 - Recall: 0.9184 - Threshold: 0.2266\n",
      "precision@0.96 - Recall: 0.8980 - Threshold: 0.3893 \n",
      "\n"
     ]
    },
    {
     "data": {
      "image/png": "[encoded data removed]",
      "text/plain": [
       "<Figure size 800x600 with 1 Axes>"
      ]
     },
     "metadata": {},
     "output_type": "display_data"
    },
    {
     "name": "stdout",
     "output_type": "stream",
     "text": [
      "validation: 2\n",
      "['unsafe-helmet (inadequate covering)'] - PR-AUC: 0.8885\n",
      "precision@0.91 - Recall: 0.6776 - Threshold: 0.8728\n",
      "precision@0.95 - Recall: 0.5355 - Threshold: 0.9429 \n",
      "\n",
      "['unsafe-helmet (no chin strap)'] - PR-AUC: 0.7715\n",
      "precision@0.92 - Recall: 0.2255 - Threshold: 0.8647\n",
      "precision@0.96 - Recall: 0.2157 - Threshold: 0.8714 \n",
      "\n",
      "['no-helmet'] - PR-AUC: 0.9369\n",
      "precision@0.91 - Recall: 0.8475 - Threshold: 0.4559\n",
      "precision@0.95 - Recall: 0.7119 - Threshold: 0.8995 \n",
      "\n"
     ]
    },
    {
     "data": {
      "image/png": "[encoded data removed]",
      "text/plain": [
       "<Figure size 800x600 with 1 Axes>"
      ]
     },
     "metadata": {},
     "output_type": "display_data"
    }
   ],
   "source": [
    "# PR-AUC\n",
    "average_precision_cv_list = []\n",
    "result_precision095_cv_list = []\n",
    "\n",
    "threshold_unsafe_helmet_inadequate_covering_list = []\n",
    "threshold_unsafe_helmet_no_chin_strap_list = []\n",
    "threshold_no_helmet_list = []\n",
    "\n",
    "for num_cv in range(3):\n",
    "    print(f'validation: {num_cv}')\n",
    "    plt.figure(figsize=(8, 6))\n",
    "    average_precision_list = []\n",
    "    result_precision095_list = []\n",
    "    for class_num, class_names in enumerate(class_category):\n",
    "        if any([no_alarm_class in class_names for no_alarm_class in no_alarm_class_category]):\n",
    "            continue\n",
    "\n",
    "        tmp_use_label = [label for label, valid in zip(labels_np, list(valid_all_df['validation'])) if valid == num_cv]\n",
    "        tmp_use_prob = [prob for prob, valid in zip(prob_np, list(valid_all_df['validation'])) if valid == num_cv]\n",
    "        use_label = [i for i in tmp_use_label if i in [j for j in range(len(no_alarm_class_category))] + [class_num]]\n",
    "        use_prob = [j for i, j in zip(tmp_use_label, tmp_use_prob) if i in [j for j in range(len(no_alarm_class_category))] + [class_num]]\n",
    "        use_label = np.array([1 if i in [class_num] else 0 for i in use_label])\n",
    "        use_prob = np.array([i[class_num] for i in use_prob])\n",
    "\n",
    "        average_precision = average_precision_score(use_label, use_prob)\n",
    "        precisions, recalls, thresholds = precision_recall_curve(use_label, use_prob)\n",
    "        result_precision090 = [0.9, 0, 0] # precision, recall, threshold で保存\n",
    "        result_precision095 = [0.95, 0, 0] # precision, recall, threshold で保存\n",
    "        for p, r, t in zip(precisions, recalls, thresholds):\n",
    "            if p >= 0.9:\n",
    "                result_precision090 = [p, r, t]\n",
    "                break\n",
    "        for p, r, t in zip(precisions, recalls, thresholds):\n",
    "            if p >= 0.95:\n",
    "                result_precision095 = [p, r, t]\n",
    "                break\n",
    "\n",
    "        average_precision_list.append(average_precision)\n",
    "        result_precision095_list.append(result_precision095)\n",
    "\n",
    "        print(f'{class_names} - PR-AUC: {average_precision:.4f}')\n",
    "        print(f'precision@{result_precision090[0]:.2f} - Recall: {result_precision090[1]:.4f} - Threshold: {result_precision090[2]:.4f}')\n",
    "        print(f'precision@{result_precision095[0]:.2f} - Recall: {result_precision095[1]:.4f} - Threshold: {result_precision095[2]:.4f} \\n')\n",
    "        if 'unsafe-helmet (inadequate covering)' in class_names:\n",
    "            color = 'r'\n",
    "            threshold_unsafe_helmet_inadequate_covering_list += [result_precision095[2]]\n",
    "        elif 'unsafe-helmet (no chin strap)' in class_names:\n",
    "            color = 'g'\n",
    "            threshold_unsafe_helmet_no_chin_strap_list += [result_precision095[2]]\n",
    "        elif 'no-helmet' in class_names:\n",
    "            color = 'b'\n",
    "            threshold_no_helmet_list += [result_precision095[2]]\n",
    "        plt.plot(recalls, precisions, color=color, lw=2, label=f'{class_names[0]} (PR-AUC = {average_precision:.2f})')\n",
    "        plt.fill_between(recalls, precisions, step='post', alpha=0.2, color=color)\n",
    "    plt.xlabel('Recall')\n",
    "    plt.ylabel('Precision')\n",
    "    plt.ylim([0.0, 1.05])\n",
    "    plt.xlim([0.0, 1.0])\n",
    "    plt.title(f'Precision-Recall Curve - validation{num_cv}')\n",
    "    plt.legend(loc='best')\n",
    "    plt.show()\n",
    "\n",
    "    average_precision_cv_list.append(average_precision_list)\n",
    "    result_precision095_cv_list.append(result_precision095_list)"
   ]
  },
  {
   "cell_type": "code",
   "execution_count": 17,
   "id": "66b43aa1-64bd-40d9-9c53-da4445735ca0",
   "metadata": {},
   "outputs": [
    {
     "name": "stdout",
     "output_type": "stream",
     "text": [
      "Threshold\n",
      "unsafe helmet (inadequate covering): 0.9669731458028158\n",
      "unsafe helmet (no chin strap): 0.883650521437327\n",
      "no helmet: 0.6902465720971426\n"
     ]
    }
   ],
   "source": [
    "threshold_unsafe_helmet_inadequate_covering_mean = sum(threshold_unsafe_helmet_inadequate_covering_list) / 3.0\n",
    "threshold_unsafe_helmet_no_chin_strap_mean = sum(threshold_unsafe_helmet_no_chin_strap_list) / 3.0\n",
    "threshold_no_helmet_mean = sum(threshold_no_helmet_list) / 3.0\n",
    "print('Threshold')\n",
    "print(f'unsafe helmet (inadequate covering): {threshold_unsafe_helmet_inadequate_covering_mean}')\n",
    "print(f'unsafe helmet (no chin strap): {threshold_unsafe_helmet_no_chin_strap_mean}')\n",
    "print(f'no helmet: {threshold_no_helmet_mean}')"
   ]
  },
  {
   "cell_type": "code",
   "execution_count": 18,
   "id": "66f78ee2-c24e-44cd-8a84-ca6698b6bf5f",
   "metadata": {},
   "outputs": [],
   "source": [
    "unsafe_helmet_inadequate_covering_cv_weight = []\n",
    "unsafe_helmet_no_chin_strap_cv_weight = []\n",
    "no_helmet_cv_weight = []\n",
    "for num_cv in range(3):\n",
    "    _valid_all_df = valid_all_df[valid_all_df['validation'] == num_cv]\n",
    "    for category in ['unsafe-helmet (inadequate covering)', 'unsafe-helmet (no chin strap)', 'no-helmet']:\n",
    "        _tmp_df = _valid_all_df[\n",
    "            (_valid_all_df['label'] == category) |\n",
    "            (_valid_all_df['label'] == 'detection-miss') |\n",
    "            (_valid_all_df['label'] == 'helmet') |\n",
    "            (_valid_all_df['label'] == 'helmet unknown (occlusion)') |\n",
    "            (_valid_all_df['label'] == 'helmet unknown (small)')\n",
    "        ]\n",
    "        if category == 'unsafe-helmet (inadequate covering)':\n",
    "            unsafe_helmet_inadequate_covering_cv_weight.append(len(_tmp_df))\n",
    "        if category == 'unsafe-helmet (no chin strap)':\n",
    "            unsafe_helmet_no_chin_strap_cv_weight.append(len(_tmp_df))\n",
    "        if category == 'no-helmet':\n",
    "            no_helmet_cv_weight.append(len(_tmp_df))"
   ]
  },
  {
   "cell_type": "code",
   "execution_count": 19,
   "id": "d5d744ac-16a0-4840-8589-5c26c8dec3f9",
   "metadata": {},
   "outputs": [
    {
     "name": "stdout",
     "output_type": "stream",
     "text": [
      "PR-AUC - unsafe helmet (inadequate covering): 0.8674233439230478\n",
      "PR-AUC - unsafe helmet (no chin strap): 0.8273533141526077\n",
      "PR-AUC - no helmet: 0.9253296149487459\n"
     ]
    }
   ],
   "source": [
    "average_precision_unsafe_helmet_inadequate_covering = sum(\n",
    "    [\n",
    "        ap[0] * weight / sum(unsafe_helmet_inadequate_covering_cv_weight)\n",
    "        for ap, weight in zip(average_precision_cv_list, unsafe_helmet_inadequate_covering_cv_weight)\n",
    "    ]\n",
    ")\n",
    "print(f'PR-AUC - unsafe helmet (inadequate covering): {average_precision_unsafe_helmet_inadequate_covering}')\n",
    "average_precision_unsafe_helmet_no_chin_strap = sum(\n",
    "    [\n",
    "        ap[1] * weight / sum(unsafe_helmet_no_chin_strap_cv_weight)\n",
    "        for ap, weight in zip(average_precision_cv_list, unsafe_helmet_no_chin_strap_cv_weight)\n",
    "    ]\n",
    ")\n",
    "print(f'PR-AUC - unsafe helmet (no chin strap): {average_precision_unsafe_helmet_no_chin_strap}')\n",
    "average_precision_no_helmet = sum(\n",
    "    [\n",
    "        ap[2] * weight / sum(no_helmet_cv_weight)\n",
    "        for ap, weight in zip(average_precision_cv_list, no_helmet_cv_weight)\n",
    "    ]\n",
    ")\n",
    "print(f'PR-AUC - no helmet: {average_precision_no_helmet}')"
   ]
  },
  {
   "cell_type": "code",
   "execution_count": 20,
   "id": "5dca3897-9b79-4c71-9ddb-90e76a404592",
   "metadata": {},
   "outputs": [
    {
     "name": "stdout",
     "output_type": "stream",
     "text": [
      "Recall - unsafe helmet (inadequate covering): 0.3025698014872129\n",
      "Recall - unsafe helmet (no chin strap): 0.3046035313081315\n",
      "Recall - no helmet: 0.7776130327287202\n"
     ]
    }
   ],
   "source": [
    "recall_unsafe_helmet_inadequate_covering = sum(\n",
    "    [\n",
    "        re[0][1] * weight / sum(unsafe_helmet_inadequate_covering_cv_weight)\n",
    "        for re, weight in zip(result_precision095_cv_list, unsafe_helmet_inadequate_covering_cv_weight)\n",
    "    ]\n",
    ")\n",
    "print(f'Recall - unsafe helmet (inadequate covering): {recall_unsafe_helmet_inadequate_covering}')\n",
    "recall_precision_unsafe_helmet_no_chin_strap = sum(\n",
    "    [\n",
    "        re[1][1] * weight / sum(unsafe_helmet_no_chin_strap_cv_weight)\n",
    "        for re, weight in zip(result_precision095_cv_list, unsafe_helmet_no_chin_strap_cv_weight)\n",
    "    ]\n",
    ")\n",
    "print(f'Recall - unsafe helmet (no chin strap): {recall_precision_unsafe_helmet_no_chin_strap}')\n",
    "recall_precision_no_helmet = sum(\n",
    "    [\n",
    "        re[2][1] * weight / sum(no_helmet_cv_weight)\n",
    "        for re, weight in zip(result_precision095_cv_list, no_helmet_cv_weight)\n",
    "    ]\n",
    ")\n",
    "print(f'Recall - no helmet: {recall_precision_no_helmet}')"
   ]
  },
  {
   "cell_type": "code",
   "execution_count": 21,
   "id": "5be36069-7f2d-4b2c-8139-6ef4debc8eba",
   "metadata": {},
   "outputs": [
    {
     "name": "stdout",
     "output_type": "stream",
     "text": [
      "Precision - unsafe helmet (inadequate covering): 0.950905062048043\n",
      "Precision - unsafe helmet (no chin strap): 0.9587667658515329\n",
      "Precision - no helmet: 0.9549679882402223\n"
     ]
    }
   ],
   "source": [
    "precision_unsafe_helmet_inadequate_covering = sum(\n",
    "    [\n",
    "        re[0][0] * weight / sum(unsafe_helmet_inadequate_covering_cv_weight)\n",
    "        for re, weight in zip(result_precision095_cv_list, unsafe_helmet_inadequate_covering_cv_weight)\n",
    "    ]\n",
    ")\n",
    "print(f'Precision - unsafe helmet (inadequate covering): {precision_unsafe_helmet_inadequate_covering}')\n",
    "precision_precision_unsafe_helmet_no_chin_strap = sum(\n",
    "    [\n",
    "        re[1][0] * weight / sum(unsafe_helmet_no_chin_strap_cv_weight)\n",
    "        for re, weight in zip(result_precision095_cv_list, unsafe_helmet_no_chin_strap_cv_weight)\n",
    "    ]\n",
    ")\n",
    "print(f'Precision - unsafe helmet (no chin strap): {precision_precision_unsafe_helmet_no_chin_strap}')\n",
    "precision_precision_no_helmet = sum(\n",
    "    [\n",
    "        re[2][0] * weight / sum(no_helmet_cv_weight)\n",
    "        for re, weight in zip(result_precision095_cv_list, no_helmet_cv_weight)\n",
    "    ]\n",
    ")\n",
    "print(f'Precision - no helmet: {precision_precision_no_helmet}')"
   ]
  },
  {
   "cell_type": "markdown",
   "id": "9f66a8b0-fbdd-4388-a166-29edee791ab0",
   "metadata": {},
   "source": [
    "## テストデータで評価"
   ]
  },
  {
   "cell_type": "code",
   "execution_count": 22,
   "id": "50247bf5-4245-4cb7-b335-0d8ebb0314a6",
   "metadata": {},
   "outputs": [
    {
     "data": {
      "application/vnd.jupyter.widget-view+json": {
       "model_id": "238d531054f445958757afe2d48fc6f5",
       "version_major": 2,
       "version_minor": 0
      },
      "text/plain": [
       "  0%|          | 0/4 [00:00<?, ?it/s]"
      ]
     },
     "metadata": {},
     "output_type": "display_data"
    },
    {
     "data": {
      "application/vnd.jupyter.widget-view+json": {
       "model_id": "870ebf79fe724c01b151c6d0e683473b",
       "version_major": 2,
       "version_minor": 0
      },
      "text/plain": [
       "  0%|          | 0/4 [00:00<?, ?it/s]"
      ]
     },
     "metadata": {},
     "output_type": "display_data"
    },
    {
     "data": {
      "application/vnd.jupyter.widget-view+json": {
       "model_id": "ea0c2d1268cb44b79a356cf163415f2f",
       "version_major": 2,
       "version_minor": 0
      },
      "text/plain": [
       "  0%|          | 0/4 [00:00<?, ?it/s]"
      ]
     },
     "metadata": {},
     "output_type": "display_data"
    }
   ],
   "source": [
    "labels_list = []\n",
    "prob_list = []\n",
    "test_df = pred_head_df[pred_head_df['validation'] == 999]\n",
    "test_data = ClassificationDataset(test_df, A_transforms_val)\n",
    "test_loader = DataLoader(dataset = test_data, batch_size=batch_size, shuffle=False)\n",
    "\n",
    "# model\n",
    "for num_cv in range(3):\n",
    "    model = timm.create_model(huggingface_model_name, pretrained=True, num_classes=len(class_category))\n",
    "    model.load_state_dict(torch.load(f'{train_result_dir}/{num_cv}/model.pth'))\n",
    "    model.to(device)\n",
    "\n",
    "    with torch.no_grad():\n",
    "        labels_list_cv = []\n",
    "        prob_list_cv = []\n",
    "        for data, label in tqdm(test_loader):\n",
    "            data = data.to(device)\n",
    "            label = label.to(device)\n",
    "\n",
    "            val_output = model(data)\n",
    "            probs = F.softmax(val_output, dim=1)\n",
    "            labels_list_cv.append(label.detach().cpu().numpy())\n",
    "            prob_list_cv.append(probs.detach().cpu().numpy())\n",
    "        labels_np_cv = np.concatenate(labels_list_cv)\n",
    "        prob_np_cv = np.concatenate(prob_list_cv)\n",
    "        labels_list.append(labels_np_cv)\n",
    "        prob_list.append(prob_np_cv)\n",
    "\n",
    "labels_np = labels_list[0]\n",
    "prob_np = (prob_list[0] + prob_list[1] + prob_list[2]) / 3\n",
    "prob_argmax = np.argmax(prob_np, axis=1)"
   ]
  },
  {
   "cell_type": "markdown",
   "id": "326d5d51-0f0d-40b2-9407-ef68632b6720",
   "metadata": {},
   "source": [
    "#### confusion matrix - 確率値が最大のクラスをそのまま予測クラスにする"
   ]
  },
  {
   "cell_type": "code",
   "execution_count": 23,
   "id": "76c84259-5274-4573-8b03-de996b78c8dc",
   "metadata": {},
   "outputs": [
    {
     "data": {
      "text/html": [
       "<div>\n",
       "<style scoped>\n",
       "    .dataframe tbody tr th:only-of-type {\n",
       "        vertical-align: middle;\n",
       "    }\n",
       "\n",
       "    .dataframe tbody tr th {\n",
       "        vertical-align: top;\n",
       "    }\n",
       "\n",
       "    .dataframe thead th {\n",
       "        text-align: right;\n",
       "    }\n",
       "</style>\n",
       "<table border=\"1\" class=\"dataframe\">\n",
       "  <thead>\n",
       "    <tr style=\"text-align: right;\">\n",
       "      <th></th>\n",
       "      <th>detection-miss</th>\n",
       "      <th>helmet</th>\n",
       "      <th>helmet unknown (occlusion)</th>\n",
       "      <th>helmet unknown (small)</th>\n",
       "      <th>unsafe-helmet (inadequate covering)</th>\n",
       "      <th>unsafe-helmet (no chin strap)</th>\n",
       "      <th>no-helmet</th>\n",
       "    </tr>\n",
       "  </thead>\n",
       "  <tbody>\n",
       "    <tr>\n",
       "      <th>detection-miss</th>\n",
       "      <td>15</td>\n",
       "      <td>0</td>\n",
       "      <td>1</td>\n",
       "      <td>4</td>\n",
       "      <td>1</td>\n",
       "      <td>0</td>\n",
       "      <td>1</td>\n",
       "    </tr>\n",
       "    <tr>\n",
       "      <th>helmet</th>\n",
       "      <td>0</td>\n",
       "      <td>1</td>\n",
       "      <td>0</td>\n",
       "      <td>1</td>\n",
       "      <td>4</td>\n",
       "      <td>1</td>\n",
       "      <td>1</td>\n",
       "    </tr>\n",
       "    <tr>\n",
       "      <th>helmet unknown (occlusion)</th>\n",
       "      <td>2</td>\n",
       "      <td>0</td>\n",
       "      <td>6</td>\n",
       "      <td>4</td>\n",
       "      <td>4</td>\n",
       "      <td>0</td>\n",
       "      <td>0</td>\n",
       "    </tr>\n",
       "    <tr>\n",
       "      <th>helmet unknown (small)</th>\n",
       "      <td>4</td>\n",
       "      <td>0</td>\n",
       "      <td>0</td>\n",
       "      <td>7</td>\n",
       "      <td>2</td>\n",
       "      <td>0</td>\n",
       "      <td>1</td>\n",
       "    </tr>\n",
       "    <tr>\n",
       "      <th>unsafe-helmet (inadequate covering)</th>\n",
       "      <td>1</td>\n",
       "      <td>1</td>\n",
       "      <td>4</td>\n",
       "      <td>8</td>\n",
       "      <td>15</td>\n",
       "      <td>1</td>\n",
       "      <td>1</td>\n",
       "    </tr>\n",
       "    <tr>\n",
       "      <th>unsafe-helmet (no chin strap)</th>\n",
       "      <td>0</td>\n",
       "      <td>0</td>\n",
       "      <td>0</td>\n",
       "      <td>0</td>\n",
       "      <td>1</td>\n",
       "      <td>0</td>\n",
       "      <td>0</td>\n",
       "    </tr>\n",
       "    <tr>\n",
       "      <th>no-helmet</th>\n",
       "      <td>0</td>\n",
       "      <td>0</td>\n",
       "      <td>1</td>\n",
       "      <td>0</td>\n",
       "      <td>2</td>\n",
       "      <td>0</td>\n",
       "      <td>7</td>\n",
       "    </tr>\n",
       "  </tbody>\n",
       "</table>\n",
       "</div>"
      ],
      "text/plain": [
       "                                     detection-miss  helmet  \\\n",
       "detection-miss                                   15       0   \n",
       "helmet                                            0       1   \n",
       "helmet unknown (occlusion)                        2       0   \n",
       "helmet unknown (small)                            4       0   \n",
       "unsafe-helmet (inadequate covering)               1       1   \n",
       "unsafe-helmet (no chin strap)                     0       0   \n",
       "no-helmet                                         0       0   \n",
       "\n",
       "                                     helmet unknown (occlusion)  \\\n",
       "detection-miss                                                1   \n",
       "helmet                                                        0   \n",
       "helmet unknown (occlusion)                                    6   \n",
       "helmet unknown (small)                                        0   \n",
       "unsafe-helmet (inadequate covering)                           4   \n",
       "unsafe-helmet (no chin strap)                                 0   \n",
       "no-helmet                                                     1   \n",
       "\n",
       "                                     helmet unknown (small)  \\\n",
       "detection-miss                                            4   \n",
       "helmet                                                    1   \n",
       "helmet unknown (occlusion)                                4   \n",
       "helmet unknown (small)                                    7   \n",
       "unsafe-helmet (inadequate covering)                       8   \n",
       "unsafe-helmet (no chin strap)                             0   \n",
       "no-helmet                                                 0   \n",
       "\n",
       "                                     unsafe-helmet (inadequate covering)  \\\n",
       "detection-miss                                                         1   \n",
       "helmet                                                                 4   \n",
       "helmet unknown (occlusion)                                             4   \n",
       "helmet unknown (small)                                                 2   \n",
       "unsafe-helmet (inadequate covering)                                   15   \n",
       "unsafe-helmet (no chin strap)                                          1   \n",
       "no-helmet                                                              2   \n",
       "\n",
       "                                     unsafe-helmet (no chin strap)  no-helmet  \n",
       "detection-miss                                                   0          1  \n",
       "helmet                                                           1          1  \n",
       "helmet unknown (occlusion)                                       0          0  \n",
       "helmet unknown (small)                                           0          1  \n",
       "unsafe-helmet (inadequate covering)                              1          1  \n",
       "unsafe-helmet (no chin strap)                                    0          0  \n",
       "no-helmet                                                        0          7  "
      ]
     },
     "metadata": {},
     "output_type": "display_data"
    }
   ],
   "source": [
    "confusion_mat = [[0 for i in range(len(class_category))] for j in range(len(class_category))]\n",
    "for label, prob in zip(labels_np, prob_argmax):\n",
    "    confusion_mat[label][prob] += 1\n",
    "display(pd.DataFrame(\n",
    "    confusion_mat, index=[i[0] for i in class_category], columns=[i[0] for i in class_category]\n",
    "))"
   ]
  },
  {
   "cell_type": "markdown",
   "id": "93cc0faf-8d13-48df-b0dd-fc247912c6b0",
   "metadata": {},
   "source": [
    "#### confusion matrix - 閾値をprecision@0.95にして予測クラスにする"
   ]
  },
  {
   "cell_type": "code",
   "execution_count": 24,
   "id": "47c939ea-8b42-49c4-9145-7d633e6fa51c",
   "metadata": {},
   "outputs": [],
   "source": [
    "def pred_class_names_precision095(row):\n",
    "    unsafe_inadequate_covering_threshold = row['threshold - unsafe-helmet (inadequate covering)']\n",
    "    unsafe_no_chin_strap_threshold = row['threshold - unsafe-helmet (no chin strap)']\n",
    "    no_helmet_threshold = row['threshold - no-helmet']\n",
    "    pred_class = []\n",
    "    if row['unsafe-helmet (inadequate covering)'] >= unsafe_inadequate_covering_threshold:\n",
    "        pred_class.append('unsafe-helmet (inadequate covering)')\n",
    "    if row['unsafe-helmet (no chin strap)'] >= unsafe_no_chin_strap_threshold:\n",
    "        pred_class.append('unsafe-helmet (no chin strap)')\n",
    "    if row['no-helmet'] >= no_helmet_threshold:\n",
    "        pred_class.append('no-helmet')\n",
    "    if len(pred_class) > 0:\n",
    "        return row[pred_class].idxmax()\n",
    "    return row[[i[0] for i in class_category[0:4]]].idxmax()"
   ]
  },
  {
   "cell_type": "code",
   "execution_count": 25,
   "id": "79f73c5d-3d58-4e68-984f-c8ecac4db609",
   "metadata": {},
   "outputs": [],
   "source": [
    "# calculate precision@0.95 threshold\n",
    "threshold_precision095_df_list = []\n",
    "threshold_precision095_valid_dict = {}\n",
    "for class_num, class_names in enumerate(class_category):\n",
    "    if any([no_alarm_class in class_names for no_alarm_class in no_alarm_class_category]):\n",
    "        continue\n",
    "    use_label = [i for i in labels_np if i in [j for j in range(len(no_alarm_class_category))] + [class_num]]\n",
    "    use_prob = [j for i, j in zip(labels_np, prob_np) if i in [j for j in range(len(no_alarm_class_category))] + [class_num]]\n",
    "    use_label = np.array([1 if i in [class_num] else 0 for i in use_label])\n",
    "    use_prob = np.array([i[class_num] for i in use_prob])\n",
    "    precisions, recalls, thresholds = precision_recall_curve(use_label, use_prob)\n",
    "    _threshold = 1.0\n",
    "    for p, t in zip(precisions, thresholds):\n",
    "        if p >= 0.95:\n",
    "            _threshold = t\n",
    "            break\n",
    "    threshold_precision095_valid_dict[class_names[0]] = _threshold\n",
    "threshold_precision095_df = pd.DataFrame(\n",
    "    [[i for i in threshold_precision095_valid_dict.values()] for _ in range(len(test_df))],\n",
    "    columns=[f'threshold - {i}' for i in threshold_precision095_valid_dict.keys()]\n",
    ")\n",
    "prob_df = pd.concat([pd.DataFrame(prob_np, columns=[i[0] for i in class_category]), threshold_precision095_df], axis=1)"
   ]
  },
  {
   "cell_type": "code",
   "execution_count": 26,
   "id": "1c83b75b-c812-4a3a-ab1a-2acd7a550263",
   "metadata": {},
   "outputs": [
    {
     "name": "stderr",
     "output_type": "stream",
     "text": [
      "/tmp/ipykernel_2822086/4134893613.py:1: SettingWithCopyWarning: \n",
      "A value is trying to be set on a copy of a slice from a DataFrame.\n",
      "Try using .loc[row_indexer,col_indexer] = value instead\n",
      "\n",
      "See the caveats in the documentation: https://pandas.pydata.org/pandas-docs/stable/user_guide/indexing.html#returning-a-view-versus-a-copy\n",
      "  test_df['pred_head_class'] = list(prob_df.apply(pred_class_names_precision095, axis=1))\n"
     ]
    }
   ],
   "source": [
    "test_df['pred_head_class'] = list(prob_df.apply(pred_class_names_precision095, axis=1))"
   ]
  },
  {
   "cell_type": "code",
   "execution_count": 27,
   "id": "51f9b1ac-f205-44e3-ab0a-21f744ce2bda",
   "metadata": {},
   "outputs": [
    {
     "data": {
      "text/html": [
       "<div>\n",
       "<style scoped>\n",
       "    .dataframe tbody tr th:only-of-type {\n",
       "        vertical-align: middle;\n",
       "    }\n",
       "\n",
       "    .dataframe tbody tr th {\n",
       "        vertical-align: top;\n",
       "    }\n",
       "\n",
       "    .dataframe thead th {\n",
       "        text-align: right;\n",
       "    }\n",
       "</style>\n",
       "<table border=\"1\" class=\"dataframe\">\n",
       "  <thead>\n",
       "    <tr style=\"text-align: right;\">\n",
       "      <th></th>\n",
       "      <th>detection-miss</th>\n",
       "      <th>helmet</th>\n",
       "      <th>helmet unknown (occlusion)</th>\n",
       "      <th>helmet unknown (small)</th>\n",
       "      <th>unsafe-helmet (inadequate covering)</th>\n",
       "      <th>unsafe-helmet (no chin strap)</th>\n",
       "      <th>no-helmet</th>\n",
       "    </tr>\n",
       "  </thead>\n",
       "  <tbody>\n",
       "    <tr>\n",
       "      <th>detection-miss</th>\n",
       "      <td>16</td>\n",
       "      <td>0</td>\n",
       "      <td>2</td>\n",
       "      <td>4</td>\n",
       "      <td>0</td>\n",
       "      <td>0</td>\n",
       "      <td>0</td>\n",
       "    </tr>\n",
       "    <tr>\n",
       "      <th>helmet</th>\n",
       "      <td>0</td>\n",
       "      <td>2</td>\n",
       "      <td>3</td>\n",
       "      <td>3</td>\n",
       "      <td>0</td>\n",
       "      <td>0</td>\n",
       "      <td>0</td>\n",
       "    </tr>\n",
       "    <tr>\n",
       "      <th>helmet unknown (occlusion)</th>\n",
       "      <td>3</td>\n",
       "      <td>0</td>\n",
       "      <td>8</td>\n",
       "      <td>5</td>\n",
       "      <td>0</td>\n",
       "      <td>0</td>\n",
       "      <td>0</td>\n",
       "    </tr>\n",
       "    <tr>\n",
       "      <th>helmet unknown (small)</th>\n",
       "      <td>5</td>\n",
       "      <td>0</td>\n",
       "      <td>0</td>\n",
       "      <td>9</td>\n",
       "      <td>0</td>\n",
       "      <td>0</td>\n",
       "      <td>0</td>\n",
       "    </tr>\n",
       "    <tr>\n",
       "      <th>unsafe-helmet (inadequate covering)</th>\n",
       "      <td>2</td>\n",
       "      <td>1</td>\n",
       "      <td>5</td>\n",
       "      <td>21</td>\n",
       "      <td>2</td>\n",
       "      <td>0</td>\n",
       "      <td>0</td>\n",
       "    </tr>\n",
       "    <tr>\n",
       "      <th>unsafe-helmet (no chin strap)</th>\n",
       "      <td>1</td>\n",
       "      <td>0</td>\n",
       "      <td>0</td>\n",
       "      <td>0</td>\n",
       "      <td>0</td>\n",
       "      <td>0</td>\n",
       "      <td>0</td>\n",
       "    </tr>\n",
       "    <tr>\n",
       "      <th>no-helmet</th>\n",
       "      <td>2</td>\n",
       "      <td>0</td>\n",
       "      <td>1</td>\n",
       "      <td>2</td>\n",
       "      <td>0</td>\n",
       "      <td>0</td>\n",
       "      <td>5</td>\n",
       "    </tr>\n",
       "  </tbody>\n",
       "</table>\n",
       "</div>"
      ],
      "text/plain": [
       "                                     detection-miss  helmet  \\\n",
       "detection-miss                                   16       0   \n",
       "helmet                                            0       2   \n",
       "helmet unknown (occlusion)                        3       0   \n",
       "helmet unknown (small)                            5       0   \n",
       "unsafe-helmet (inadequate covering)               2       1   \n",
       "unsafe-helmet (no chin strap)                     1       0   \n",
       "no-helmet                                         2       0   \n",
       "\n",
       "                                     helmet unknown (occlusion)  \\\n",
       "detection-miss                                                2   \n",
       "helmet                                                        3   \n",
       "helmet unknown (occlusion)                                    8   \n",
       "helmet unknown (small)                                        0   \n",
       "unsafe-helmet (inadequate covering)                           5   \n",
       "unsafe-helmet (no chin strap)                                 0   \n",
       "no-helmet                                                     1   \n",
       "\n",
       "                                     helmet unknown (small)  \\\n",
       "detection-miss                                            4   \n",
       "helmet                                                    3   \n",
       "helmet unknown (occlusion)                                5   \n",
       "helmet unknown (small)                                    9   \n",
       "unsafe-helmet (inadequate covering)                      21   \n",
       "unsafe-helmet (no chin strap)                             0   \n",
       "no-helmet                                                 2   \n",
       "\n",
       "                                     unsafe-helmet (inadequate covering)  \\\n",
       "detection-miss                                                         0   \n",
       "helmet                                                                 0   \n",
       "helmet unknown (occlusion)                                             0   \n",
       "helmet unknown (small)                                                 0   \n",
       "unsafe-helmet (inadequate covering)                                    2   \n",
       "unsafe-helmet (no chin strap)                                          0   \n",
       "no-helmet                                                              0   \n",
       "\n",
       "                                     unsafe-helmet (no chin strap)  no-helmet  \n",
       "detection-miss                                                   0          0  \n",
       "helmet                                                           0          0  \n",
       "helmet unknown (occlusion)                                       0          0  \n",
       "helmet unknown (small)                                           0          0  \n",
       "unsafe-helmet (inadequate covering)                              0          0  \n",
       "unsafe-helmet (no chin strap)                                    0          0  \n",
       "no-helmet                                                        0          5  "
      ]
     },
     "metadata": {},
     "output_type": "display_data"
    }
   ],
   "source": [
    "confusion_mat = [[0 for i in range(len(class_category))] for j in range(len(class_category))]\n",
    "for label, pred_name in zip(labels_np, list(test_df['pred_head_class'])):\n",
    "    pred_num = [i for i, class_names in enumerate(class_category) if pred_name in class_names][0]\n",
    "    confusion_mat[label][pred_num] += 1\n",
    "display(pd.DataFrame(\n",
    "    confusion_mat, index=[i[0] for i in class_category], columns=[i[0] for i in class_category]\n",
    "))"
   ]
  },
  {
   "cell_type": "markdown",
   "id": "c1e3c53f-64c1-4419-9c8f-51d45683b9d3",
   "metadata": {},
   "source": [
    "#### PR-AUC"
   ]
  },
  {
   "cell_type": "code",
   "execution_count": 28,
   "id": "8ee1f446-410e-485c-bbc0-1a4d8945b05d",
   "metadata": {},
   "outputs": [
    {
     "name": "stdout",
     "output_type": "stream",
     "text": [
      "['unsafe-helmet (inadequate covering)'] - PR-AUC: 0.5884\n",
      "precision@1.00 - Recall: 0.0645 - Threshold: 0.8114\n",
      "precision@1.00 - Recall: 0.0645 - Threshold: 0.8114 \n",
      "\n",
      "['unsafe-helmet (no chin strap)'] - PR-AUC: 0.3333\n",
      "precision@0.90 - Recall: 0.0000 - Threshold: 0.0000\n",
      "precision@0.95 - Recall: 0.0000 - Threshold: 0.0000 \n",
      "\n",
      "['no-helmet'] - PR-AUC: 0.8221\n",
      "precision@1.00 - Recall: 0.5000 - Threshold: 0.8001\n",
      "precision@1.00 - Recall: 0.5000 - Threshold: 0.8001 \n",
      "\n"
     ]
    },
    {
     "data": {
      "image/png": "[encoded data removed]",
      "text/plain": [
       "<Figure size 800x600 with 1 Axes>"
      ]
     },
     "metadata": {},
     "output_type": "display_data"
    }
   ],
   "source": [
    "# PR-AUC\n",
    "plt.figure(figsize=(8, 6))\n",
    "for class_num, class_names in enumerate(class_category):\n",
    "    if any([no_alarm_class in class_names for no_alarm_class in no_alarm_class_category]):\n",
    "        continue\n",
    "\n",
    "    use_label = [i for i in labels_np if i in [j for j in range(len(no_alarm_class_category))] + [class_num]]\n",
    "    use_prob = [j for i, j in zip(labels_np, prob_np) if i in [j for j in range(len(no_alarm_class_category))] + [class_num]]\n",
    "    use_label = np.array([1 if i in [class_num] else 0 for i in use_label])\n",
    "    use_prob = np.array([i[class_num] for i in use_prob])\n",
    "\n",
    "    average_precision = average_precision_score(use_label, use_prob)\n",
    "    precisions, recalls, thresholds = precision_recall_curve(use_label, use_prob)\n",
    "    result_precision090 = [0.9, 0, 0] # precision, recall, threshold で保存\n",
    "    result_precision095 = [0.95, 0, 0] # precision, recall, threshold で保存\n",
    "    for p, r, t in zip(precisions, recalls, thresholds):\n",
    "        if p >= 0.9:\n",
    "            result_precision090 = [p, r, t]\n",
    "            break\n",
    "    for p, r, t in zip(precisions, recalls, thresholds):\n",
    "        if p >= 0.95:\n",
    "            result_precision095 = [p, r, t]\n",
    "            break\n",
    "\n",
    "    print(f'{class_names} - PR-AUC: {average_precision:.4f}')\n",
    "    print(f'precision@{result_precision090[0]:.2f} - Recall: {result_precision090[1]:.4f} - Threshold: {result_precision090[2]:.4f}')\n",
    "    print(f'precision@{result_precision095[0]:.2f} - Recall: {result_precision095[1]:.4f} - Threshold: {result_precision095[2]:.4f} \\n')\n",
    "    if 'unsafe-helmet (inadequate covering)' in class_names:\n",
    "        color = 'r'\n",
    "    elif 'unsafe-helmet (no chin strap)' in class_names:\n",
    "        color = 'g'\n",
    "    elif 'no-helmet' in class_names:\n",
    "        color = 'b'\n",
    "    plt.plot(recalls, precisions, color=color, lw=2, label=f'{class_names[0]} (PR-AUC = {average_precision:.2f})')\n",
    "    plt.fill_between(recalls, precisions, step='post', alpha=0.2, color=color)\n",
    "plt.xlabel('Recall')\n",
    "plt.ylabel('Precision')\n",
    "plt.ylim([0.0, 1.05])\n",
    "plt.xlim([0.0, 1.0])\n",
    "plt.title(f'Precision-Recall Curve - test')\n",
    "plt.legend(loc='best')\n",
    "plt.show()"
   ]
  },
  {
   "cell_type": "code",
   "execution_count": 29,
   "id": "a273ddd6-9b94-4c80-9a32-8da168194161",
   "metadata": {},
   "outputs": [],
   "source": [
    "pd.concat([valid_all_df, test_df]).to_csv(f'{result_dir}/pred_head_class-{pattern_date}.csv', index=False)"
   ]
  },
  {
   "cell_type": "code",
   "execution_count": null,
   "id": "1de54742-7d4a-4f0d-a1b8-4d2eac0fcff0",
   "metadata": {},
   "outputs": [],
   "source": []
  }
 ],
 "metadata": {
  "kernelspec": {
   "display_name": "Python 3 (ipykernel)",
   "language": "python",
   "name": "python3"
  },
  "language_info": {
   "codemirror_mode": {
    "name": "ipython",
    "version": 3
   },
   "file_extension": ".py",
   "mimetype": "text/x-python",
   "name": "python",
   "nbconvert_exporter": "python",
   "pygments_lexer": "ipython3",
   "version": "3.9.5"
  }
 },
 "nbformat": 4,
 "nbformat_minor": 5
}
