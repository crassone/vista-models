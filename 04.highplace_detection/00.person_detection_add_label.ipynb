{
 "cells": [
  {
   "cell_type": "code",
   "execution_count": 1,
   "id": "83382d20-bc1f-4d34-877f-6e2e15fd4f22",
   "metadata": {},
   "outputs": [],
   "source": [
    "import copy\n",
    "import os\n",
    "import numpy as np\n",
    "import pandas as pd"
   ]
  },
  {
   "cell_type": "code",
   "execution_count": 2,
   "id": "27b37f4a-3dfb-44a1-bd7e-03e7ba33cc18",
   "metadata": {},
   "outputs": [],
   "source": [
    "pattern_date = '2023-12-24'\n",
    "root_dir = f'{\"/\".join(os.getcwd().split(\"/\")[:-1])}'\n",
    "format_anno_dir = f'{root_dir}/data/outputs/01.format_and_cv'\n",
    "pose_output_dir = f'{root_dir}/data/outputs/02.pose_estimation'\n",
    "result_dir = f'{root_dir}/data/outputs/04.highplace_detection/00.person_detection_add_label'"
   ]
  },
  {
   "cell_type": "code",
   "execution_count": 3,
   "id": "77da417e-61f5-4765-aaa2-980e9f125527",
   "metadata": {},
   "outputs": [],
   "source": [
    "annotation_person_df = pd.read_csv(f'{pose_output_dir}/person_eval_annotation-{pattern_date}.csv')\n",
    "pred_person_df = pd.read_csv(f'{pose_output_dir}/person_eval_pred-{pattern_date}.csv')"
   ]
  },
  {
   "cell_type": "markdown",
   "id": "e8274ef1-9800-4db5-8d07-aadccc700321",
   "metadata": {},
   "source": [
    "## 人検出した切り取り画像に、ラベルを付与"
   ]
  },
  {
   "cell_type": "code",
   "execution_count": 4,
   "id": "9f64413d-c1af-4363-8fb1-c58a6e128999",
   "metadata": {},
   "outputs": [],
   "source": [
    "def calculate_intersection_per_label(pred_bbox, label_bbox):\n",
    "    # バウンディングボックスの座標情報を取得\n",
    "    x1_1, y1_1, x2_1, y2_1 = label_bbox\n",
    "    x1_2, y1_2, x2_2, y2_2 = pred_bbox\n",
    "    \n",
    "    # 交差する領域を計算\n",
    "    x_intersection = max(0, min(x2_1, x2_2) - max(x1_1, x1_2))\n",
    "    y_intersection = max(0, min(y2_1, y2_2) - max(y1_1, y1_2))\n",
    "    intersection_area = x_intersection * y_intersection\n",
    "\n",
    "    # 正解ラベルの面積\n",
    "    area_label_bbox = (x2_1 - x1_1) * (y2_1 - y1_1)\n",
    "\n",
    "    # 交差する領域の面積 / 正解ラベルの面積\n",
    "    return intersection_area / area_label_bbox"
   ]
  },
  {
   "cell_type": "code",
   "execution_count": 5,
   "id": "b0d6d59e-1942-4c8d-bfb6-a6f30f94c3e5",
   "metadata": {},
   "outputs": [],
   "source": [
    "def calculate_iou(box1, box2):\n",
    "    # バウンディングボックスの座標情報を取得\n",
    "    x1, y1, w1, h1 = box1\n",
    "    x2, y2, w2, h2 = box2\n",
    "    \n",
    "    # 交差する領域を計算\n",
    "    intersection_x = max(0, min(x1 + w1, x2 + w2) - max(x1, x2))\n",
    "    intersection_y = max(0, min(y1 + h1, y2 + h2) - max(y1, y2))\n",
    "    \n",
    "    # 交差領域の面積と各バウンディングボックスの面積を計算\n",
    "    intersection_area = intersection_x * intersection_y\n",
    "    box1_area = w1 * h1\n",
    "    box2_area = w2 * h2\n",
    "    \n",
    "    # IoUを計算\n",
    "    iou = intersection_area / (box1_area + box2_area - intersection_area)\n",
    "    \n",
    "    return iou"
   ]
  },
  {
   "cell_type": "code",
   "execution_count": 6,
   "id": "b8600df1-acc2-4023-b0cd-64eee95d1af7",
   "metadata": {},
   "outputs": [],
   "source": [
    "def make_person_cls(row, ratio_threshold=0.8, iou_threshold=0.3):\n",
    "    img_key = row[\"unique_key\"]\n",
    "    pred_bbox = [row[\"left\"], row[\"top\"], row[\"right\"], row[\"bottom\"]]\n",
    "    _annotation_person_df = copy.copy(annotation_person_df[annotation_person_df[\"unique_key\"] == img_key])\n",
    "    for gt_row in _annotation_person_df.values:\n",
    "        if (\n",
    "            calculate_intersection_per_label(pred_bbox, gt_row[3:7]) >= ratio_threshold\n",
    "        ) and (\n",
    "            calculate_iou(pred_bbox, gt_row[3:7]) >= iou_threshold\n",
    "        ):\n",
    "            return gt_row[2]\n",
    "    return \"detection-miss\""
   ]
  },
  {
   "cell_type": "code",
   "execution_count": 7,
   "id": "b324dbc9-45a4-4141-addb-966663f101f6",
   "metadata": {},
   "outputs": [],
   "source": [
    "pred_person_df[\"label\"] = pred_person_df.apply(make_person_cls, axis=1)"
   ]
  },
  {
   "cell_type": "code",
   "execution_count": 8,
   "id": "c0335c6f-09a9-4dff-b70e-f0bb34e12c04",
   "metadata": {},
   "outputs": [
    {
     "name": "stdout",
     "output_type": "stream",
     "text": [
      "学習データ内の評価用ピックアップデータのラベル件数\n"
     ]
    },
    {
     "data": {
      "text/html": [
       "<div>\n",
       "<style scoped>\n",
       "    .dataframe tbody tr th:only-of-type {\n",
       "        vertical-align: middle;\n",
       "    }\n",
       "\n",
       "    .dataframe tbody tr th {\n",
       "        vertical-align: top;\n",
       "    }\n",
       "\n",
       "    .dataframe thead th {\n",
       "        text-align: right;\n",
       "    }\n",
       "</style>\n",
       "<table border=\"1\" class=\"dataframe\">\n",
       "  <thead>\n",
       "    <tr style=\"text-align: right;\">\n",
       "      <th></th>\n",
       "      <th>count</th>\n",
       "    </tr>\n",
       "    <tr>\n",
       "      <th>label</th>\n",
       "      <th></th>\n",
       "    </tr>\n",
       "  </thead>\n",
       "  <tbody>\n",
       "    <tr>\n",
       "      <th>person</th>\n",
       "      <td>1731</td>\n",
       "    </tr>\n",
       "    <tr>\n",
       "      <th>detection-miss</th>\n",
       "      <td>193</td>\n",
       "    </tr>\n",
       "    <tr>\n",
       "      <th>person in high place</th>\n",
       "      <td>81</td>\n",
       "    </tr>\n",
       "  </tbody>\n",
       "</table>\n",
       "</div>"
      ],
      "text/plain": [
       "                      count\n",
       "label                      \n",
       "person                 1731\n",
       "detection-miss          193\n",
       "person in high place     81"
      ]
     },
     "metadata": {},
     "output_type": "display_data"
    },
    {
     "name": "stdout",
     "output_type": "stream",
     "text": [
      "評価用データのラベル件数\n"
     ]
    },
    {
     "data": {
      "text/html": [
       "<div>\n",
       "<style scoped>\n",
       "    .dataframe tbody tr th:only-of-type {\n",
       "        vertical-align: middle;\n",
       "    }\n",
       "\n",
       "    .dataframe tbody tr th {\n",
       "        vertical-align: top;\n",
       "    }\n",
       "\n",
       "    .dataframe thead th {\n",
       "        text-align: right;\n",
       "    }\n",
       "</style>\n",
       "<table border=\"1\" class=\"dataframe\">\n",
       "  <thead>\n",
       "    <tr style=\"text-align: right;\">\n",
       "      <th></th>\n",
       "      <th>count</th>\n",
       "    </tr>\n",
       "    <tr>\n",
       "      <th>label</th>\n",
       "      <th></th>\n",
       "    </tr>\n",
       "  </thead>\n",
       "  <tbody>\n",
       "    <tr>\n",
       "      <th>person</th>\n",
       "      <td>50</td>\n",
       "    </tr>\n",
       "    <tr>\n",
       "      <th>person in high place</th>\n",
       "      <td>36</td>\n",
       "    </tr>\n",
       "    <tr>\n",
       "      <th>detection-miss</th>\n",
       "      <td>16</td>\n",
       "    </tr>\n",
       "  </tbody>\n",
       "</table>\n",
       "</div>"
      ],
      "text/plain": [
       "                      count\n",
       "label                      \n",
       "person                   50\n",
       "person in high place     36\n",
       "detection-miss           16"
      ]
     },
     "metadata": {},
     "output_type": "display_data"
    }
   ],
   "source": [
    "print('学習データ内の評価用ピックアップデータのラベル件数')\n",
    "display(pd.DataFrame(pred_person_df[\n",
    "    (pred_person_df['unique_key'].str.contains('fixed-point-camera')) | \n",
    "    (pred_person_df['unique_key'].str.contains('for-learning/2023-11-19-omaezaki-500')) | \n",
    "    (pred_person_df['unique_key'].str.contains('for-learning/2023-11-23-mie-safetybelt'))\n",
    "]['label'].value_counts()))\n",
    "\n",
    "print('評価用データのラベル件数')\n",
    "display(pd.DataFrame(pred_person_df[\n",
    "    (pred_person_df['validation'] == 999)\n",
    "]['label'].value_counts()))"
   ]
  },
  {
   "cell_type": "code",
   "execution_count": 9,
   "id": "0e0eab59-c95c-4db8-b4c2-4bc72f68fd6e",
   "metadata": {},
   "outputs": [],
   "source": [
    "os.makedirs(result_dir, exist_ok=True)\n",
    "pred_person_df.to_csv(f'{result_dir}/person_eval_pred_add_label-{pattern_date}.csv', index=False)"
   ]
  },
  {
   "cell_type": "code",
   "execution_count": null,
   "id": "625681b2-42e0-49e7-b6a2-a96d9c599204",
   "metadata": {},
   "outputs": [],
   "source": []
  }
 ],
 "metadata": {
  "kernelspec": {
   "display_name": "Python 3 (ipykernel)",
   "language": "python",
   "name": "python3"
  },
  "language_info": {
   "codemirror_mode": {
    "name": "ipython",
    "version": 3
   },
   "file_extension": ".py",
   "mimetype": "text/x-python",
   "name": "python",
   "nbconvert_exporter": "python",
   "pygments_lexer": "ipython3",
   "version": "3.9.5"
  }
 },
 "nbformat": 4,
 "nbformat_minor": 5
}
