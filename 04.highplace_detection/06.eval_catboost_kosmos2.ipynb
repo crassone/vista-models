{
 "cells": [
  {
   "cell_type": "code",
   "execution_count": 1,
   "id": "3b74bb8f-f8d3-4680-a54b-d17b23f81783",
   "metadata": {},
   "outputs": [],
   "source": [
    "import os\n",
    "import matplotlib.pyplot as plt\n",
    "import numpy as np\n",
    "import pandas as pd\n",
    "from sklearn.metrics import precision_recall_curve, average_precision_score\n",
    "from catboost import CatBoostClassifier"
   ]
  },
  {
   "cell_type": "markdown",
   "id": "6d8d55c5-b35d-4006-91ed-12b77767e7ff",
   "metadata": {},
   "source": [
    "## 設定"
   ]
  },
  {
   "cell_type": "code",
   "execution_count": 2,
   "id": "e28f151e-fc18-4e55-a7fb-66198a9fd263",
   "metadata": {},
   "outputs": [],
   "source": [
    "pattern_date = '2023-12-24'\n",
    "root_dir = f'{\"/\".join(os.getcwd().split(\"/\")[:-1])}'\n",
    "highplace_emb_dir = f'{root_dir}/data/outputs/04.highplace_detection/02.kosmos2_text_and_emb'\n",
    "highplace_model_dir = f'{root_dir}/data/outputs/04.highplace_detection/04.kosmos2_pred_highplace_detection'\n",
    "result_dir = f'{root_dir}/data/outputs/04.highplace_detection/06.kosmos2_pred_highplace_detection'"
   ]
  },
  {
   "cell_type": "code",
   "execution_count": 3,
   "id": "2a555b97-075c-4350-ba8e-a9823d73bd0f",
   "metadata": {},
   "outputs": [],
   "source": [
    "pred_person_highplace_df = pd.read_csv(f'{highplace_emb_dir}/person_eval_pred_message_and_emb-{pattern_date}.csv')"
   ]
  },
  {
   "cell_type": "code",
   "execution_count": 4,
   "id": "ebc22d69-64f7-4a78-9f64-4756cbf6a05b",
   "metadata": {},
   "outputs": [],
   "source": [
    "class_category = [\n",
    "    'detection-miss',\n",
    "    'person',\n",
    "    'person in high place',\n",
    "]\n",
    "no_alarm_class_category = [\n",
    "    'detection-miss',\n",
    "    'person',\n",
    "]"
   ]
  },
  {
   "cell_type": "markdown",
   "id": "dcb2aef1-16b4-4a1a-a289-129a7dec640d",
   "metadata": {},
   "source": [
    "## 高さ検知の推論実行"
   ]
  },
  {
   "cell_type": "code",
   "execution_count": 5,
   "id": "b5042be0-69af-4ee7-99bd-dc0ad35c6e73",
   "metadata": {},
   "outputs": [],
   "source": [
    "def classname2number(label_name):\n",
    "    for idx, category in enumerate(class_category):\n",
    "        if label_name == category:\n",
    "            return idx"
   ]
  },
  {
   "cell_type": "markdown",
   "id": "fb68b89d-ad05-4280-91e6-16c5155d9338",
   "metadata": {},
   "source": [
    "### cross-validationでの評価"
   ]
  },
  {
   "cell_type": "code",
   "execution_count": 6,
   "id": "046bdd5f-6636-4b21-910d-94ad4d717471",
   "metadata": {},
   "outputs": [],
   "source": [
    "labels_list = []\n",
    "prob_list = []\n",
    "valid_all_df_list = []\n",
    "for num_cv in range(3):\n",
    "    valid_df = pred_person_highplace_df[\n",
    "        (pred_person_highplace_df['validation'] == num_cv) &\n",
    "        (\n",
    "            (pred_person_highplace_df['unique_key'].str.contains('fixed-point-camera')) |\n",
    "            (pred_person_highplace_df['unique_key'].str.contains('for-learning/2023-11-19-omaezaki-500')) |\n",
    "            (pred_person_highplace_df['unique_key'].str.contains('for-learning/2023-11-23-mie-safetybelt'))\n",
    "        )\n",
    "    ]\n",
    "    valid_all_df_list.append(valid_df)\n",
    "    model = CatBoostClassifier()\n",
    "    model.load_model(f'{highplace_model_dir}/{num_cv}/catboost.cbm')\n",
    "\n",
    "    labels_np = valid_df['label'].apply(classname2number).values\n",
    "    prob_np = model.predict(valid_df.iloc[:, 13:].values, prediction_type='Probability')\n",
    "    labels_list.append(labels_np)\n",
    "    prob_list.append(prob_np)\n",
    "\n",
    "labels_np = np.concatenate(labels_list)\n",
    "prob_np = np.concatenate(prob_list)\n",
    "prob_argmax = np.argmax(prob_np, axis=1)\n",
    "valid_all_df = pd.concat(valid_all_df_list)"
   ]
  },
  {
   "cell_type": "markdown",
   "id": "75268a62-da4e-4cd6-9ef6-6cda35a772e1",
   "metadata": {},
   "source": [
    "#### confusion matrix - 確率値が最大のクラスをそのまま予測クラスにする"
   ]
  },
  {
   "cell_type": "code",
   "execution_count": 7,
   "id": "a2745284-56d5-419a-b0c7-51b355b9c162",
   "metadata": {},
   "outputs": [
    {
     "data": {
      "text/html": [
       "<div>\n",
       "<style scoped>\n",
       "    .dataframe tbody tr th:only-of-type {\n",
       "        vertical-align: middle;\n",
       "    }\n",
       "\n",
       "    .dataframe tbody tr th {\n",
       "        vertical-align: top;\n",
       "    }\n",
       "\n",
       "    .dataframe thead th {\n",
       "        text-align: right;\n",
       "    }\n",
       "</style>\n",
       "<table border=\"1\" class=\"dataframe\">\n",
       "  <thead>\n",
       "    <tr style=\"text-align: right;\">\n",
       "      <th></th>\n",
       "      <th>detection-miss</th>\n",
       "      <th>person</th>\n",
       "      <th>person in high place</th>\n",
       "    </tr>\n",
       "  </thead>\n",
       "  <tbody>\n",
       "    <tr>\n",
       "      <th>detection-miss</th>\n",
       "      <td>60</td>\n",
       "      <td>114</td>\n",
       "      <td>19</td>\n",
       "    </tr>\n",
       "    <tr>\n",
       "      <th>person</th>\n",
       "      <td>280</td>\n",
       "      <td>1340</td>\n",
       "      <td>111</td>\n",
       "    </tr>\n",
       "    <tr>\n",
       "      <th>person in high place</th>\n",
       "      <td>11</td>\n",
       "      <td>36</td>\n",
       "      <td>34</td>\n",
       "    </tr>\n",
       "  </tbody>\n",
       "</table>\n",
       "</div>"
      ],
      "text/plain": [
       "                      detection-miss  person  person in high place\n",
       "detection-miss                    60     114                    19\n",
       "person                           280    1340                   111\n",
       "person in high place              11      36                    34"
      ]
     },
     "metadata": {},
     "output_type": "display_data"
    }
   ],
   "source": [
    "confusion_mat = [[0 for i in range(len(class_category))] for j in range(len(class_category))]\n",
    "for label, prob in zip(labels_np, prob_argmax):\n",
    "    confusion_mat[label][prob] += 1\n",
    "display(pd.DataFrame(\n",
    "    confusion_mat, index=class_category, columns=class_category\n",
    "))"
   ]
  },
  {
   "cell_type": "markdown",
   "id": "1359282c-5f8e-4deb-a7ee-9d19b06934bb",
   "metadata": {},
   "source": [
    "#### confusion matrix - 閾値をprecision@0.95にして予測クラスにする"
   ]
  },
  {
   "cell_type": "code",
   "execution_count": 8,
   "id": "540f2306-fdf1-4b66-9214-18044e33587b",
   "metadata": {},
   "outputs": [],
   "source": [
    "def pred_class_names_precision095(row):\n",
    "    no_safetybelt_threshold = row['threshold - person in high place']\n",
    "    if row['person in high place'] >= no_safetybelt_threshold:\n",
    "        return 'person in high place'\n",
    "    return row[no_alarm_class_category].idxmax()"
   ]
  },
  {
   "cell_type": "code",
   "execution_count": 9,
   "id": "a62fbc69-0817-4c44-89b6-cbc682f865ef",
   "metadata": {},
   "outputs": [],
   "source": [
    "# calculate precision@0.95 threshold\n",
    "threshold_precision095_df_list = []\n",
    "for num_cv in range(3):\n",
    "    threshold_precision095_valid_dict = {}\n",
    "    for class_num, class_names in enumerate(class_category):\n",
    "        if class_names in no_alarm_class_category:\n",
    "            continue\n",
    "        tmp_use_label = [label for label, valid in zip(labels_np, list(valid_all_df['validation'])) if valid == num_cv]\n",
    "        tmp_use_prob = [prob for prob, valid in zip(prob_np, list(valid_all_df['validation'])) if valid == num_cv]\n",
    "        use_label = [i for i in tmp_use_label if i in [j for j in range(len(no_alarm_class_category))] + [class_num]]\n",
    "        use_prob = [j for i, j in zip(tmp_use_label, tmp_use_prob) if i in [j for j in range(len(no_alarm_class_category))] + [class_num]]\n",
    "        use_label = np.array([1 if i in [class_num] else 0 for i in use_label])\n",
    "        use_prob = np.array([i[class_num] for i in use_prob])\n",
    "        precisions, recalls, thresholds = precision_recall_curve(use_label, use_prob)\n",
    "        _threshold = 1.0\n",
    "        for p, t in zip(precisions, thresholds):\n",
    "            if p >= 0.65:\n",
    "                _threshold = t\n",
    "                break\n",
    "        threshold_precision095_valid_dict[class_names] = _threshold\n",
    "    threshold_precision095_df_list.append(pd.DataFrame(\n",
    "        [[i for i in threshold_precision095_valid_dict.values()] for _ in range(len(valid_all_df[valid_all_df['validation'] == num_cv]))],\n",
    "        columns=[f'threshold - {i}' for i in threshold_precision095_valid_dict.keys()]\n",
    "    ))\n",
    "threshold_precision095_df = pd.concat(threshold_precision095_df_list).reset_index(drop=True)\n",
    "prob_df = pd.concat([pd.DataFrame(prob_np, columns=class_category), threshold_precision095_df], axis=1)"
   ]
  },
  {
   "cell_type": "code",
   "execution_count": 10,
   "id": "7801cce3-59ed-4efa-9071-28d369aebdac",
   "metadata": {
    "scrolled": true
   },
   "outputs": [],
   "source": [
    "valid_all_df['pred_person_in_highplace_class'] = list(prob_df.apply(pred_class_names_precision095, axis=1))"
   ]
  },
  {
   "cell_type": "code",
   "execution_count": 11,
   "id": "48b163c3-1fc5-4e98-afe0-aeebfc919d68",
   "metadata": {},
   "outputs": [
    {
     "data": {
      "text/html": [
       "<div>\n",
       "<style scoped>\n",
       "    .dataframe tbody tr th:only-of-type {\n",
       "        vertical-align: middle;\n",
       "    }\n",
       "\n",
       "    .dataframe tbody tr th {\n",
       "        vertical-align: top;\n",
       "    }\n",
       "\n",
       "    .dataframe thead th {\n",
       "        text-align: right;\n",
       "    }\n",
       "</style>\n",
       "<table border=\"1\" class=\"dataframe\">\n",
       "  <thead>\n",
       "    <tr style=\"text-align: right;\">\n",
       "      <th></th>\n",
       "      <th>detection-miss</th>\n",
       "      <th>person</th>\n",
       "      <th>person in high place</th>\n",
       "    </tr>\n",
       "  </thead>\n",
       "  <tbody>\n",
       "    <tr>\n",
       "      <th>detection-miss</th>\n",
       "      <td>72</td>\n",
       "      <td>121</td>\n",
       "      <td>0</td>\n",
       "    </tr>\n",
       "    <tr>\n",
       "      <th>person</th>\n",
       "      <td>328</td>\n",
       "      <td>1402</td>\n",
       "      <td>1</td>\n",
       "    </tr>\n",
       "    <tr>\n",
       "      <th>person in high place</th>\n",
       "      <td>23</td>\n",
       "      <td>52</td>\n",
       "      <td>6</td>\n",
       "    </tr>\n",
       "  </tbody>\n",
       "</table>\n",
       "</div>"
      ],
      "text/plain": [
       "                      detection-miss  person  person in high place\n",
       "detection-miss                    72     121                     0\n",
       "person                           328    1402                     1\n",
       "person in high place              23      52                     6"
      ]
     },
     "metadata": {},
     "output_type": "display_data"
    }
   ],
   "source": [
    "confusion_mat = [[0 for i in range(len(class_category))] for j in range(len(class_category))]\n",
    "for label, pred_name in zip(labels_np, list(valid_all_df['pred_person_in_highplace_class'])):\n",
    "    pred_num = [i for i, class_names in enumerate(class_category) if pred_name in class_names][0]\n",
    "    confusion_mat[label][pred_num] += 1\n",
    "display(pd.DataFrame(\n",
    "    confusion_mat, index=class_category, columns=class_category\n",
    "))"
   ]
  },
  {
   "cell_type": "markdown",
   "id": "87d7598d-316e-43b1-85d6-f3a0983580a7",
   "metadata": {},
   "source": [
    "#### PR-AUC"
   ]
  },
  {
   "cell_type": "code",
   "execution_count": 12,
   "id": "b7dc682a-c714-4d06-bb19-ae4b0bb204e1",
   "metadata": {},
   "outputs": [
    {
     "name": "stdout",
     "output_type": "stream",
     "text": [
      "validation: 0\n",
      "person in high place - PR-AUC: 0.2531\n",
      "precision@1.00 - Recall: 0.0952 - Threshold: 0.9029\n",
      "precision@1.00 - Recall: 0.0952 - Threshold: 0.9029 \n",
      "\n"
     ]
    },
    {
     "data": {
      "image/png": "[encoded data removed]",
      "text/plain": [
       "<Figure size 800x600 with 1 Axes>"
      ]
     },
     "metadata": {},
     "output_type": "display_data"
    },
    {
     "name": "stdout",
     "output_type": "stream",
     "text": [
      "validation: 1\n",
      "person in high place - PR-AUC: 0.2950\n",
      "precision@1.00 - Recall: 0.0312 - Threshold: 0.9585\n",
      "precision@1.00 - Recall: 0.0312 - Threshold: 0.9585 \n",
      "\n"
     ]
    },
    {
     "data": {
      "image/png": "[encoded data removed]",
      "text/plain": [
       "<Figure size 800x600 with 1 Axes>"
      ]
     },
     "metadata": {},
     "output_type": "display_data"
    },
    {
     "name": "stdout",
     "output_type": "stream",
     "text": [
      "validation: 2\n",
      "person in high place - PR-AUC: 0.3069\n",
      "precision@0.60 - Recall: 0.1071 - Threshold: 0.8703\n",
      "precision@0.75 - Recall: 0.1071 - Threshold: 0.9233 \n",
      "\n"
     ]
    },
    {
     "data": {
      "image/png": "[encoded data removed]",
      "text/plain": [
       "<Figure size 800x600 with 1 Axes>"
      ]
     },
     "metadata": {},
     "output_type": "display_data"
    }
   ],
   "source": [
    "# PR-AUC\n",
    "average_precision_cv_list = []\n",
    "result_precision095_cv_list = []\n",
    "cv_weight = []\n",
    "\n",
    "for num_cv in range(3):\n",
    "    print(f'validation: {num_cv}')\n",
    "    plt.figure(figsize=(8, 6))\n",
    "    for class_num, class_names in enumerate(class_category):\n",
    "        if class_names in no_alarm_class_category:\n",
    "            continue\n",
    "\n",
    "        tmp_use_label = [label for label, valid in zip(labels_np, list(valid_all_df['validation'])) if valid == num_cv]\n",
    "        tmp_use_prob = [prob for prob, valid in zip(prob_np, list(valid_all_df['validation'])) if valid == num_cv]\n",
    "        use_label = [i for i in tmp_use_label if i in [j for j in range(len(no_alarm_class_category))] + [class_num]]\n",
    "        use_prob = [j for i, j in zip(tmp_use_label, tmp_use_prob) if i in [j for j in range(len(no_alarm_class_category))] + [class_num]]\n",
    "        use_label = np.array([1 if i in [class_num] else 0 for i in use_label])\n",
    "        use_prob = np.array([i[class_num] for i in use_prob])\n",
    "\n",
    "        cv_weight.append(len(use_label))\n",
    "\n",
    "        average_precision = average_precision_score(use_label, use_prob)\n",
    "        precisions, recalls, thresholds = precision_recall_curve(use_label, use_prob)\n",
    "        result_precision090 = [0.60, 0, 0] # precision, recall, threshold で保存\n",
    "        result_precision095 = [0.65, 0, 0] # precision, recall, threshold で保存\n",
    "        for p, r, t in zip(precisions, recalls, thresholds):\n",
    "            if p >= 0.60:\n",
    "                result_precision090 = [p, r, t]\n",
    "                break\n",
    "        for p, r, t in zip(precisions, recalls, thresholds):\n",
    "            if p >= 0.65:\n",
    "                result_precision095 = [p, r, t]\n",
    "                break\n",
    "\n",
    "        print(f'{class_names} - PR-AUC: {average_precision:.4f}')\n",
    "        print(f'precision@{result_precision090[0]:.2f} - Recall: {result_precision090[1]:.4f} - Threshold: {result_precision090[2]:.4f}')\n",
    "        print(f'precision@{result_precision095[0]:.2f} - Recall: {result_precision095[1]:.4f} - Threshold: {result_precision095[2]:.4f} \\n')\n",
    "        color = 'r'\n",
    "        plt.plot(recalls, precisions, color=color, lw=2, label=f'{class_names} (PR-AUC = {average_precision:.2f})')\n",
    "        plt.fill_between(recalls, precisions, step='post', alpha=0.2, color=color)\n",
    "    plt.xlabel('Recall')\n",
    "    plt.ylabel('Precision')\n",
    "    plt.ylim([0.0, 1.05])\n",
    "    plt.xlim([0.0, 1.0])\n",
    "    plt.title(f'Precision-Recall Curve - validation{num_cv}')\n",
    "    plt.legend(loc='best')\n",
    "    plt.show()\n",
    "\n",
    "    average_precision_cv_list.append(average_precision)\n",
    "    result_precision095_cv_list.append(result_precision095)"
   ]
  },
  {
   "cell_type": "code",
   "execution_count": 13,
   "id": "9afc3b26-145c-43d2-a2e1-fe80de7e6a9f",
   "metadata": {},
   "outputs": [
    {
     "data": {
      "text/plain": [
       "0.07762068044175276"
      ]
     },
     "execution_count": 13,
     "metadata": {},
     "output_type": "execute_result"
    }
   ],
   "source": [
    "sum([ap[1] * weight / sum(cv_weight) for ap, weight in zip(result_precision095_cv_list, cv_weight)])"
   ]
  },
  {
   "cell_type": "markdown",
   "id": "9f66a8b0-fbdd-4388-a166-29edee791ab0",
   "metadata": {},
   "source": [
    "## テストデータで評価"
   ]
  },
  {
   "cell_type": "code",
   "execution_count": 14,
   "id": "50140db1-6dbe-49fc-a59a-2ff54b2f1ee1",
   "metadata": {},
   "outputs": [],
   "source": [
    "labels_list = []\n",
    "prob_list = []\n",
    "test_df = pred_person_highplace_df[pred_person_highplace_df['validation'] == 999]\n",
    "for num_cv in range(3):\n",
    "    model = CatBoostClassifier()\n",
    "    model.load_model(f'{highplace_model_dir}/{num_cv}/catboost.cbm')\n",
    "\n",
    "    labels_np = test_df['label'].apply(classname2number).values\n",
    "    prob_np = model.predict(test_df.iloc[:, 13:].values, prediction_type='Probability')\n",
    "    labels_list.append(labels_np)\n",
    "    prob_list.append(prob_np)\n",
    "\n",
    "labels_np = labels_list[0]\n",
    "prob_np = (prob_list[0] + prob_list[1] + prob_list[2]) / 3\n",
    "prob_argmax = np.argmax(prob_np, axis=1)"
   ]
  },
  {
   "cell_type": "markdown",
   "id": "326d5d51-0f0d-40b2-9407-ef68632b6720",
   "metadata": {},
   "source": [
    "#### confusion matrix - 確率値が最大のクラスをそのまま予測クラスにする"
   ]
  },
  {
   "cell_type": "code",
   "execution_count": 15,
   "id": "76c84259-5274-4573-8b03-de996b78c8dc",
   "metadata": {},
   "outputs": [
    {
     "data": {
      "text/html": [
       "<div>\n",
       "<style scoped>\n",
       "    .dataframe tbody tr th:only-of-type {\n",
       "        vertical-align: middle;\n",
       "    }\n",
       "\n",
       "    .dataframe tbody tr th {\n",
       "        vertical-align: top;\n",
       "    }\n",
       "\n",
       "    .dataframe thead th {\n",
       "        text-align: right;\n",
       "    }\n",
       "</style>\n",
       "<table border=\"1\" class=\"dataframe\">\n",
       "  <thead>\n",
       "    <tr style=\"text-align: right;\">\n",
       "      <th></th>\n",
       "      <th>detection-miss</th>\n",
       "      <th>person</th>\n",
       "      <th>person in high place</th>\n",
       "    </tr>\n",
       "  </thead>\n",
       "  <tbody>\n",
       "    <tr>\n",
       "      <th>detection-miss</th>\n",
       "      <td>7</td>\n",
       "      <td>5</td>\n",
       "      <td>4</td>\n",
       "    </tr>\n",
       "    <tr>\n",
       "      <th>person</th>\n",
       "      <td>12</td>\n",
       "      <td>36</td>\n",
       "      <td>2</td>\n",
       "    </tr>\n",
       "    <tr>\n",
       "      <th>person in high place</th>\n",
       "      <td>10</td>\n",
       "      <td>10</td>\n",
       "      <td>16</td>\n",
       "    </tr>\n",
       "  </tbody>\n",
       "</table>\n",
       "</div>"
      ],
      "text/plain": [
       "                      detection-miss  person  person in high place\n",
       "detection-miss                     7       5                     4\n",
       "person                            12      36                     2\n",
       "person in high place              10      10                    16"
      ]
     },
     "metadata": {},
     "output_type": "display_data"
    }
   ],
   "source": [
    "confusion_mat = [[0 for i in range(len(class_category))] for j in range(len(class_category))]\n",
    "for label, prob in zip(labels_np, prob_argmax):\n",
    "    confusion_mat[label][prob] += 1\n",
    "display(pd.DataFrame(\n",
    "    confusion_mat, index=class_category, columns=class_category\n",
    "))"
   ]
  },
  {
   "cell_type": "markdown",
   "id": "93cc0faf-8d13-48df-b0dd-fc247912c6b0",
   "metadata": {},
   "source": [
    "#### confusion matrix - 閾値をprecision@0.95にして予測クラスにする"
   ]
  },
  {
   "cell_type": "code",
   "execution_count": 16,
   "id": "c3f8e11a-4542-4a52-9373-ee1a26be203d",
   "metadata": {},
   "outputs": [],
   "source": [
    "def pred_class_names_precision095(row):\n",
    "    no_safetybelt_threshold = row['threshold - person in high place']\n",
    "    if row['person in high place'] >= no_safetybelt_threshold:\n",
    "        return 'person in high place'\n",
    "    return row[no_alarm_class_category].idxmax()"
   ]
  },
  {
   "cell_type": "code",
   "execution_count": 17,
   "id": "79f73c5d-3d58-4e68-984f-c8ecac4db609",
   "metadata": {},
   "outputs": [],
   "source": [
    "# calculate precision@0.95 threshold\n",
    "threshold_precision095_df_list = []\n",
    "threshold_precision095_valid_dict = {}\n",
    "for class_num, class_names in enumerate(class_category):\n",
    "    if class_names in no_alarm_class_category:\n",
    "            continue\n",
    "    use_label = [i for i in labels_np if i in [j for j in range(len(no_alarm_class_category))] + [class_num]]\n",
    "    use_prob = [j for i, j in zip(labels_np, prob_np) if i in [j for j in range(len(no_alarm_class_category))] + [class_num]]\n",
    "    use_label = np.array([1 if i in [class_num] else 0 for i in use_label])\n",
    "    use_prob = np.array([i[class_num] for i in use_prob])\n",
    "    precisions, recalls, thresholds = precision_recall_curve(use_label, use_prob)\n",
    "    _threshold = 1.0\n",
    "    for p, t in zip(precisions, thresholds):\n",
    "        if p >= 0.85:\n",
    "            _threshold = t\n",
    "            break\n",
    "    threshold_precision095_valid_dict[class_names] = _threshold\n",
    "threshold_precision095_df = pd.DataFrame(\n",
    "    [[i for i in threshold_precision095_valid_dict.values()] for _ in range(len(test_df))],\n",
    "    columns=[f'threshold - {i}' for i in threshold_precision095_valid_dict.keys()]\n",
    ")\n",
    "prob_df = pd.concat([pd.DataFrame(prob_np, columns=class_category), threshold_precision095_df], axis=1)"
   ]
  },
  {
   "cell_type": "code",
   "execution_count": 18,
   "id": "1c83b75b-c812-4a3a-ab1a-2acd7a550263",
   "metadata": {},
   "outputs": [
    {
     "name": "stderr",
     "output_type": "stream",
     "text": [
      "/tmp/ipykernel_2868874/3969484369.py:1: SettingWithCopyWarning: \n",
      "A value is trying to be set on a copy of a slice from a DataFrame.\n",
      "Try using .loc[row_indexer,col_indexer] = value instead\n",
      "\n",
      "See the caveats in the documentation: https://pandas.pydata.org/pandas-docs/stable/user_guide/indexing.html#returning-a-view-versus-a-copy\n",
      "  test_df['pred_person_in_highplace_class'] = list(prob_df.apply(pred_class_names_precision095, axis=1))\n"
     ]
    }
   ],
   "source": [
    "test_df['pred_person_in_highplace_class'] = list(prob_df.apply(pred_class_names_precision095, axis=1))"
   ]
  },
  {
   "cell_type": "code",
   "execution_count": 19,
   "id": "51f9b1ac-f205-44e3-ab0a-21f744ce2bda",
   "metadata": {},
   "outputs": [
    {
     "data": {
      "text/html": [
       "<div>\n",
       "<style scoped>\n",
       "    .dataframe tbody tr th:only-of-type {\n",
       "        vertical-align: middle;\n",
       "    }\n",
       "\n",
       "    .dataframe tbody tr th {\n",
       "        vertical-align: top;\n",
       "    }\n",
       "\n",
       "    .dataframe thead th {\n",
       "        text-align: right;\n",
       "    }\n",
       "</style>\n",
       "<table border=\"1\" class=\"dataframe\">\n",
       "  <thead>\n",
       "    <tr style=\"text-align: right;\">\n",
       "      <th></th>\n",
       "      <th>detection-miss</th>\n",
       "      <th>person</th>\n",
       "      <th>person in high place</th>\n",
       "    </tr>\n",
       "  </thead>\n",
       "  <tbody>\n",
       "    <tr>\n",
       "      <th>detection-miss</th>\n",
       "      <td>9</td>\n",
       "      <td>6</td>\n",
       "      <td>1</td>\n",
       "    </tr>\n",
       "    <tr>\n",
       "      <th>person</th>\n",
       "      <td>13</td>\n",
       "      <td>36</td>\n",
       "      <td>1</td>\n",
       "    </tr>\n",
       "    <tr>\n",
       "      <th>person in high place</th>\n",
       "      <td>14</td>\n",
       "      <td>10</td>\n",
       "      <td>12</td>\n",
       "    </tr>\n",
       "  </tbody>\n",
       "</table>\n",
       "</div>"
      ],
      "text/plain": [
       "                      detection-miss  person  person in high place\n",
       "detection-miss                     9       6                     1\n",
       "person                            13      36                     1\n",
       "person in high place              14      10                    12"
      ]
     },
     "metadata": {},
     "output_type": "display_data"
    }
   ],
   "source": [
    "confusion_mat = [[0 for i in range(len(class_category))] for j in range(len(class_category))]\n",
    "for label, pred_name in zip(labels_np, list(test_df['pred_person_in_highplace_class'])):\n",
    "    pred_num = [i for i, class_names in enumerate(class_category) if pred_name in class_names][0]\n",
    "    confusion_mat[label][pred_num] += 1\n",
    "display(pd.DataFrame(\n",
    "    confusion_mat, index=class_category, columns=class_category\n",
    "))"
   ]
  },
  {
   "cell_type": "markdown",
   "id": "c1e3c53f-64c1-4419-9c8f-51d45683b9d3",
   "metadata": {},
   "source": [
    "#### PR-AUC"
   ]
  },
  {
   "cell_type": "code",
   "execution_count": 20,
   "id": "8ee1f446-410e-485c-bbc0-1a4d8945b05d",
   "metadata": {},
   "outputs": [
    {
     "name": "stdout",
     "output_type": "stream",
     "text": [
      "person in high place - PR-AUC: 0.7237\n",
      "precision@0.86 - Recall: 0.3333 - Threshold: 0.4220\n",
      "precision@0.92 - Recall: 0.3333 - Threshold: 0.4847 \n",
      "\n"
     ]
    },
    {
     "data": {
      "image/png": "[encoded data removed]",
      "text/plain": [
       "<Figure size 800x600 with 1 Axes>"
      ]
     },
     "metadata": {},
     "output_type": "display_data"
    }
   ],
   "source": [
    "# PR-AUC\n",
    "plt.figure(figsize=(8, 6))\n",
    "for class_num, class_names in enumerate(class_category):\n",
    "    if class_names in no_alarm_class_category:\n",
    "            continue\n",
    "\n",
    "    use_label = [i for i in labels_np if i in [j for j in range(len(no_alarm_class_category))] + [class_num]]\n",
    "    use_prob = [j for i, j in zip(labels_np, prob_np) if i in [j for j in range(len(no_alarm_class_category))] + [class_num]]\n",
    "    use_label = np.array([1 if i in [class_num] else 0 for i in use_label])\n",
    "    use_prob = np.array([i[class_num] for i in use_prob])\n",
    "\n",
    "    average_precision = average_precision_score(use_label, use_prob)\n",
    "    precisions, recalls, thresholds = precision_recall_curve(use_label, use_prob)\n",
    "    result_precision090 = [0.9, 0, 0] # precision, recall, threshold で保存\n",
    "    result_precision095 = [0.95, 0, 0] # precision, recall, threshold で保存\n",
    "    for p, r, t in zip(precisions, recalls, thresholds):\n",
    "        if p >= 0.85:\n",
    "            result_precision090 = [p, r, t]\n",
    "            break\n",
    "    for p, r, t in zip(precisions, recalls, thresholds):\n",
    "        if p >= 0.9:\n",
    "            result_precision095 = [p, r, t]\n",
    "            break\n",
    "\n",
    "    print(f'{class_names} - PR-AUC: {average_precision:.4f}')\n",
    "    print(f'precision@{result_precision090[0]:.2f} - Recall: {result_precision090[1]:.4f} - Threshold: {result_precision090[2]:.4f}')\n",
    "    print(f'precision@{result_precision095[0]:.2f} - Recall: {result_precision095[1]:.4f} - Threshold: {result_precision095[2]:.4f} \\n')\n",
    "    color = 'r'\n",
    "    plt.plot(recalls, precisions, color=color, lw=2, label=f'{class_names} (PR-AUC = {average_precision:.2f})')\n",
    "    plt.fill_between(recalls, precisions, step='post', alpha=0.2, color=color)\n",
    "plt.xlabel('Recall')\n",
    "plt.ylabel('Precision')\n",
    "plt.ylim([0.0, 1.05])\n",
    "plt.xlim([0.0, 1.0])\n",
    "plt.title(f'Precision-Recall Curve - test')\n",
    "plt.legend(loc='best')\n",
    "plt.show()"
   ]
  },
  {
   "cell_type": "code",
   "execution_count": 21,
   "id": "a273ddd6-9b94-4c80-9a32-8da168194161",
   "metadata": {},
   "outputs": [],
   "source": [
    "pd.concat([valid_all_df, test_df]).to_csv(f'{result_dir}/pred_highplace_class-{pattern_date}.csv', index=False)"
   ]
  },
  {
   "cell_type": "code",
   "execution_count": null,
   "id": "3f3055e4-7030-4e80-9af2-ec215e49125a",
   "metadata": {},
   "outputs": [],
   "source": []
  }
 ],
 "metadata": {
  "kernelspec": {
   "display_name": "Python 3 (ipykernel)",
   "language": "python",
   "name": "python3"
  },
  "language_info": {
   "codemirror_mode": {
    "name": "ipython",
    "version": 3
   },
   "file_extension": ".py",
   "mimetype": "text/x-python",
   "name": "python",
   "nbconvert_exporter": "python",
   "pygments_lexer": "ipython3",
   "version": "3.9.5"
  }
 },
 "nbformat": 4,
 "nbformat_minor": 5
}
