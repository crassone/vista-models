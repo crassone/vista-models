{
 "cells": [
  {
   "cell_type": "code",
   "execution_count": 1,
   "id": "83382d20-bc1f-4d34-877f-6e2e15fd4f22",
   "metadata": {},
   "outputs": [],
   "source": [
    "import copy\n",
    "import os\n",
    "import numpy as np\n",
    "import pandas as pd"
   ]
  },
  {
   "cell_type": "code",
   "execution_count": 2,
   "id": "27b37f4a-3dfb-44a1-bd7e-03e7ba33cc18",
   "metadata": {},
   "outputs": [],
   "source": [
    "pattern_date = '2023-12-24'\n",
    "root_dir = f'{\"/\".join(os.getcwd().split(\"/\")[:-1])}'\n",
    "format_anno_dir = f'{root_dir}/data/outputs/01.format_and_cv'\n",
    "pose_output_dir = f'{root_dir}/data/outputs/02.pose_estimation'\n",
    "highplace_output_dir = f'{root_dir}/data/outputs/04.highplace_detection/00.person_detection_add_label'\n",
    "result_dir = f'{root_dir}/data/outputs/05.safetybelt_detection/00.safetybelt_detection_add_label'"
   ]
  },
  {
   "cell_type": "code",
   "execution_count": 3,
   "id": "77da417e-61f5-4765-aaa2-980e9f125527",
   "metadata": {},
   "outputs": [],
   "source": [
    "annotation_all_df = pd.read_csv(f'{format_anno_dir}/annotation-{pattern_date}.csv')\n",
    "annotation_person_df = pd.read_csv(f'{pose_output_dir}/person_eval_annotation-{pattern_date}.csv')\n",
    "pred_person_df = pd.read_csv(f'{highplace_output_dir}/person_eval_pred_add_label-{pattern_date}.csv')"
   ]
  },
  {
   "cell_type": "code",
   "execution_count": 4,
   "id": "80e5856b-fdc9-45b7-a1f0-b46fd86f4321",
   "metadata": {},
   "outputs": [],
   "source": [
    "def calculate_intersection_per_label(pred_bbox, label_bbox):\n",
    "    # バウンディングボックスの座標情報を取得\n",
    "    x1_1, y1_1, x2_1, y2_1 = label_bbox\n",
    "    x1_2, y1_2, x2_2, y2_2 = pred_bbox\n",
    "    \n",
    "    # 交差する領域を計算\n",
    "    x_intersection = max(0, min(x2_1, x2_2) - max(x1_1, x1_2))\n",
    "    y_intersection = max(0, min(y2_1, y2_2) - max(y1_1, y1_2))\n",
    "    intersection_area = x_intersection * y_intersection\n",
    "\n",
    "    # 正解ラベルの面積\n",
    "    area_label_bbox = (x2_1 - x1_1) * (y2_1 - y1_1)\n",
    "\n",
    "    # 交差する領域の面積 / 正解ラベルの面積\n",
    "    return intersection_area / area_label_bbox"
   ]
  },
  {
   "cell_type": "code",
   "execution_count": 5,
   "id": "7800cff2-21d1-4a32-817b-83b261fb6d7b",
   "metadata": {},
   "outputs": [],
   "source": [
    "def calculate_iou(box1, box2):\n",
    "    # バウンディングボックスの座標情報を取得\n",
    "    x1_1, y1_1, x2_1, y2_1 = box1\n",
    "    x1_2, y1_2, x2_2, y2_2 = box2\n",
    "    \n",
    "    # 交差する領域を計算\n",
    "    x_intersection = max(0, min(x2_1, x2_2) - max(x1_1, x1_2))\n",
    "    y_intersection = max(0, min(y2_1, y2_2) - max(y1_1, y1_2))\n",
    "    \n",
    "    # 交差領域の面積と各バウンディングボックスの面積を計算\n",
    "    intersection_area = x_intersection * y_intersection\n",
    "    area_box1 = (x2_1 - x1_1) * (y2_1 - y1_1)\n",
    "    area_box2 = (x2_2 - x1_2) * (y2_2 - y1_2)\n",
    "    \n",
    "    # IoUを計算\n",
    "    iou = intersection_area / (area_box1 + area_box2 - intersection_area)\n",
    "    \n",
    "    return iou"
   ]
  },
  {
   "cell_type": "markdown",
   "id": "666c1eb1-de10-466d-bd15-180c35661820",
   "metadata": {},
   "source": [
    "## アノテーションした人に安全帯情報を付与"
   ]
  },
  {
   "cell_type": "code",
   "execution_count": 6,
   "id": "3eb056b8-1dee-492c-98bf-5307026f7ea0",
   "metadata": {},
   "outputs": [],
   "source": [
    "iou_threshold = 0.1\n",
    "annotation_safetybelt_df = annotation_all_df[annotation_all_df[\"label\"] == 'safety belt']\n",
    "is_safetybelt_list = ['no-safetybelt' for _ in range(len(annotation_person_df))]\n",
    "for i, person_info in enumerate(annotation_person_df[['unique_key', 'left', 'top', 'right', 'bottom']].values):\n",
    "    unique_key = person_info[0]\n",
    "    person_bbox = person_info[1:]\n",
    "    safetybelt_bboxes = annotation_safetybelt_df[\n",
    "        annotation_safetybelt_df['unique_key'] == unique_key\n",
    "    ][['left', 'top', 'right', 'bottom']].values\n",
    "    for safetybelt_bbox in safetybelt_bboxes:\n",
    "        iou = calculate_iou(person_bbox, safetybelt_bbox)\n",
    "        if iou > iou_threshold:\n",
    "            is_safetybelt_list[i] = 'safetybelt'\n",
    "annotation_person_df['label_safetybelt'] = is_safetybelt_list"
   ]
  },
  {
   "cell_type": "code",
   "execution_count": 7,
   "id": "2627c4d1-9d74-4341-b1c1-afd43e280507",
   "metadata": {},
   "outputs": [
    {
     "name": "stdout",
     "output_type": "stream",
     "text": [
      "学習データ内の評価用ピックアップデータのラベル件数\n"
     ]
    },
    {
     "data": {
      "text/html": [
       "<div>\n",
       "<style scoped>\n",
       "    .dataframe tbody tr th:only-of-type {\n",
       "        vertical-align: middle;\n",
       "    }\n",
       "\n",
       "    .dataframe tbody tr th {\n",
       "        vertical-align: top;\n",
       "    }\n",
       "\n",
       "    .dataframe thead th {\n",
       "        text-align: right;\n",
       "    }\n",
       "</style>\n",
       "<table border=\"1\" class=\"dataframe\">\n",
       "  <thead>\n",
       "    <tr style=\"text-align: right;\">\n",
       "      <th></th>\n",
       "      <th>count</th>\n",
       "    </tr>\n",
       "    <tr>\n",
       "      <th>label_safetybelt</th>\n",
       "      <th></th>\n",
       "    </tr>\n",
       "  </thead>\n",
       "  <tbody>\n",
       "    <tr>\n",
       "      <th>no-safetybelt</th>\n",
       "      <td>1714</td>\n",
       "    </tr>\n",
       "    <tr>\n",
       "      <th>safetybelt</th>\n",
       "      <td>346</td>\n",
       "    </tr>\n",
       "  </tbody>\n",
       "</table>\n",
       "</div>"
      ],
      "text/plain": [
       "                  count\n",
       "label_safetybelt       \n",
       "no-safetybelt      1714\n",
       "safetybelt          346"
      ]
     },
     "metadata": {},
     "output_type": "display_data"
    },
    {
     "name": "stdout",
     "output_type": "stream",
     "text": [
      "評価用データのラベル件数\n"
     ]
    },
    {
     "data": {
      "text/html": [
       "<div>\n",
       "<style scoped>\n",
       "    .dataframe tbody tr th:only-of-type {\n",
       "        vertical-align: middle;\n",
       "    }\n",
       "\n",
       "    .dataframe tbody tr th {\n",
       "        vertical-align: top;\n",
       "    }\n",
       "\n",
       "    .dataframe thead th {\n",
       "        text-align: right;\n",
       "    }\n",
       "</style>\n",
       "<table border=\"1\" class=\"dataframe\">\n",
       "  <thead>\n",
       "    <tr style=\"text-align: right;\">\n",
       "      <th></th>\n",
       "      <th>count</th>\n",
       "    </tr>\n",
       "    <tr>\n",
       "      <th>label_safetybelt</th>\n",
       "      <th></th>\n",
       "    </tr>\n",
       "  </thead>\n",
       "  <tbody>\n",
       "    <tr>\n",
       "      <th>no-safetybelt</th>\n",
       "      <td>117</td>\n",
       "    </tr>\n",
       "    <tr>\n",
       "      <th>safetybelt</th>\n",
       "      <td>11</td>\n",
       "    </tr>\n",
       "  </tbody>\n",
       "</table>\n",
       "</div>"
      ],
      "text/plain": [
       "                  count\n",
       "label_safetybelt       \n",
       "no-safetybelt       117\n",
       "safetybelt           11"
      ]
     },
     "metadata": {},
     "output_type": "display_data"
    }
   ],
   "source": [
    "print('学習データ内の評価用ピックアップデータのラベル件数')\n",
    "display(pd.DataFrame(annotation_person_df[\n",
    "    (annotation_person_df['unique_key'].str.contains('fixed-point-camera')) | \n",
    "    (annotation_person_df['unique_key'].str.contains('for-learning/2023-11-19-omaezaki-500')) | \n",
    "    (annotation_person_df['unique_key'].str.contains('for-learning/2023-11-23-mie-safetybelt'))\n",
    "]['label_safetybelt'].value_counts()))\n",
    "\n",
    "print('評価用データのラベル件数')\n",
    "display(pd.DataFrame(annotation_person_df[\n",
    "    (annotation_person_df['validation'] == 999)\n",
    "]['label_safetybelt'].value_counts()))"
   ]
  },
  {
   "cell_type": "markdown",
   "id": "28f70b15-b403-4cf9-9f0d-8986c0abcc01",
   "metadata": {},
   "source": [
    "## 人検出した切り取り画像に、安全帯ラベルを付与"
   ]
  },
  {
   "cell_type": "code",
   "execution_count": 8,
   "id": "7cdfb8bc-5bac-407f-bd64-40da002aa2ba",
   "metadata": {},
   "outputs": [],
   "source": [
    "def make_safetybelt_cls(row, ratio_threshold=0.8, iou_threshold=0.3):\n",
    "    img_key = row[\"unique_key\"]\n",
    "    pred_bbox = [row[\"left\"], row[\"top\"], row[\"right\"], row[\"bottom\"]]\n",
    "    _annotation_person_df = copy.copy(annotation_person_df[annotation_person_df[\"unique_key\"] == img_key])\n",
    "    for gt_row in _annotation_person_df.values:\n",
    "        if (\n",
    "            calculate_intersection_per_label(pred_bbox, gt_row[3:7]) >= ratio_threshold\n",
    "        ) and (\n",
    "            calculate_iou(pred_bbox, gt_row[3:7]) >= iou_threshold\n",
    "        ):\n",
    "            return gt_row[-1]\n",
    "    return \"detection-miss\""
   ]
  },
  {
   "cell_type": "code",
   "execution_count": 9,
   "id": "bdb4bba4-c6f3-4c3f-8b14-b933af2c5cdc",
   "metadata": {},
   "outputs": [],
   "source": [
    "pred_person_df[\"label_safetybelt\"] = pred_person_df.apply(make_safetybelt_cls, axis=1)"
   ]
  },
  {
   "cell_type": "code",
   "execution_count": 10,
   "id": "2c9979ab-c4be-4bb6-a463-98b6ddcdb8b1",
   "metadata": {},
   "outputs": [
    {
     "name": "stdout",
     "output_type": "stream",
     "text": [
      "学習データ内の評価用ピックアップデータのラベル件数\n"
     ]
    },
    {
     "data": {
      "text/html": [
       "<div>\n",
       "<style scoped>\n",
       "    .dataframe tbody tr th:only-of-type {\n",
       "        vertical-align: middle;\n",
       "    }\n",
       "\n",
       "    .dataframe tbody tr th {\n",
       "        vertical-align: top;\n",
       "    }\n",
       "\n",
       "    .dataframe thead th {\n",
       "        text-align: right;\n",
       "    }\n",
       "</style>\n",
       "<table border=\"1\" class=\"dataframe\">\n",
       "  <thead>\n",
       "    <tr style=\"text-align: right;\">\n",
       "      <th></th>\n",
       "      <th>count</th>\n",
       "    </tr>\n",
       "    <tr>\n",
       "      <th>label_safetybelt</th>\n",
       "      <th></th>\n",
       "    </tr>\n",
       "  </thead>\n",
       "  <tbody>\n",
       "    <tr>\n",
       "      <th>no-safetybelt</th>\n",
       "      <td>1458</td>\n",
       "    </tr>\n",
       "    <tr>\n",
       "      <th>safetybelt</th>\n",
       "      <td>342</td>\n",
       "    </tr>\n",
       "    <tr>\n",
       "      <th>detection-miss</th>\n",
       "      <td>205</td>\n",
       "    </tr>\n",
       "  </tbody>\n",
       "</table>\n",
       "</div>"
      ],
      "text/plain": [
       "                  count\n",
       "label_safetybelt       \n",
       "no-safetybelt      1458\n",
       "safetybelt          342\n",
       "detection-miss      205"
      ]
     },
     "metadata": {},
     "output_type": "display_data"
    },
    {
     "name": "stdout",
     "output_type": "stream",
     "text": [
      "評価用データのラベル件数\n"
     ]
    },
    {
     "data": {
      "text/html": [
       "<div>\n",
       "<style scoped>\n",
       "    .dataframe tbody tr th:only-of-type {\n",
       "        vertical-align: middle;\n",
       "    }\n",
       "\n",
       "    .dataframe tbody tr th {\n",
       "        vertical-align: top;\n",
       "    }\n",
       "\n",
       "    .dataframe thead th {\n",
       "        text-align: right;\n",
       "    }\n",
       "</style>\n",
       "<table border=\"1\" class=\"dataframe\">\n",
       "  <thead>\n",
       "    <tr style=\"text-align: right;\">\n",
       "      <th></th>\n",
       "      <th>count</th>\n",
       "    </tr>\n",
       "    <tr>\n",
       "      <th>label_safetybelt</th>\n",
       "      <th></th>\n",
       "    </tr>\n",
       "  </thead>\n",
       "  <tbody>\n",
       "    <tr>\n",
       "      <th>no-safetybelt</th>\n",
       "      <td>76</td>\n",
       "    </tr>\n",
       "    <tr>\n",
       "      <th>detection-miss</th>\n",
       "      <td>17</td>\n",
       "    </tr>\n",
       "    <tr>\n",
       "      <th>safetybelt</th>\n",
       "      <td>9</td>\n",
       "    </tr>\n",
       "  </tbody>\n",
       "</table>\n",
       "</div>"
      ],
      "text/plain": [
       "                  count\n",
       "label_safetybelt       \n",
       "no-safetybelt        76\n",
       "detection-miss       17\n",
       "safetybelt            9"
      ]
     },
     "metadata": {},
     "output_type": "display_data"
    }
   ],
   "source": [
    "print('学習データ内の評価用ピックアップデータのラベル件数')\n",
    "display(pd.DataFrame(pred_person_df[\n",
    "    (pred_person_df['unique_key'].str.contains('fixed-point-camera')) | \n",
    "    (pred_person_df['unique_key'].str.contains('for-learning/2023-11-19-omaezaki-500')) | \n",
    "    (pred_person_df['unique_key'].str.contains('for-learning/2023-11-23-mie-safetybelt'))\n",
    "]['label_safetybelt'].value_counts()))\n",
    "\n",
    "print('評価用データのラベル件数')\n",
    "display(pd.DataFrame(pred_person_df[\n",
    "    (pred_person_df['validation'] == 999)\n",
    "]['label_safetybelt'].value_counts()))"
   ]
  },
  {
   "cell_type": "code",
   "execution_count": 11,
   "id": "d61b7a17-c1bf-4396-a383-5eeba42d06b3",
   "metadata": {},
   "outputs": [],
   "source": [
    "os.makedirs(result_dir, exist_ok=True)\n",
    "annotation_person_df.to_csv(f'{result_dir}/safetybelt_eval_annotation_add_label-{pattern_date}.csv', index=False)\n",
    "pred_person_df.to_csv(f'{result_dir}/safetybelt_eval_pred_add_label-{pattern_date}.csv', index=False)"
   ]
  }
 ],
 "metadata": {
  "kernelspec": {
   "display_name": "Python 3 (ipykernel)",
   "language": "python",
   "name": "python3"
  },
  "language_info": {
   "codemirror_mode": {
    "name": "ipython",
    "version": 3
   },
   "file_extension": ".py",
   "mimetype": "text/x-python",
   "name": "python",
   "nbconvert_exporter": "python",
   "pygments_lexer": "ipython3",
   "version": "3.9.5"
  }
 },
 "nbformat": 4,
 "nbformat_minor": 5
}
